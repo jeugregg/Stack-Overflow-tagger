{
 "cells": [
  {
   "cell_type": "markdown",
   "metadata": {},
   "source": [
    "# OC IML Projet 5 : Catégorisez automatiquement des questions\n",
    "\n",
    "Stack Overflow est un site célèbre de questions-réponses liées au développement informatique\n",
    "développez *un système de suggestion de tag* pour le site. Celui-ci prendra la forme d’un algorithme de machine learning qui assigne automatiquement plusieurs tags pertinents à une question.\n",
    "\n",
    "\n",
    "Ce notebook contient : \n",
    "- Exploration des données\n",
    "\n"
   ]
  },
  {
   "cell_type": "markdown",
   "metadata": {},
   "source": [
    "## import"
   ]
  },
  {
   "cell_type": "code",
   "execution_count": 142,
   "metadata": {},
   "outputs": [
    {
     "name": "stderr",
     "output_type": "stream",
     "text": [
      "[nltk_data] Downloading package punkt to /Users/gregory/nltk_data...\n",
      "[nltk_data]   Package punkt is already up-to-date!\n",
      "[nltk_data] Downloading package stopwords to\n",
      "[nltk_data]     /Users/gregory/nltk_data...\n",
      "[nltk_data]   Unzipping corpora/stopwords.zip.\n"
     ]
    }
   ],
   "source": [
    "%matplotlib inline\n",
    "import matplotlib.pyplot as plt\n",
    "plt.style.use('seaborn-whitegrid')\n",
    "import seaborn as sns\n",
    "sns.set(color_codes=True, font_scale=1.33)\n",
    "\n",
    "import numpy as np\n",
    "import pandas as pd\n",
    "pd.set_option(\"display.max_columns\", 25)\n",
    "\n",
    "import re\n",
    "\n",
    "from sklearn import metrics\n",
    "\n",
    "import scipy.stats as st\n",
    "\n",
    "import nltk\n",
    "nltk.download('punkt')\n",
    "nltk.download('stopwords')\n",
    "from collections import defaultdict"
   ]
  },
  {
   "cell_type": "markdown",
   "metadata": {},
   "source": [
    "## Definitions"
   ]
  },
  {
   "cell_type": "code",
   "execution_count": 5,
   "metadata": {},
   "outputs": [],
   "source": [
    "# source paths\n",
    "PATH_SOURCE_QUESTIONS = '../../data/QueryResults.csv' "
   ]
  },
  {
   "cell_type": "markdown",
   "metadata": {},
   "source": [
    "## Useful functions"
   ]
  },
  {
   "cell_type": "code",
   "execution_count": 8,
   "metadata": {},
   "outputs": [],
   "source": [
    "def display_missing(df):\n",
    "    '''\n",
    "    Display dataFrame missing values : barplots & numbers\n",
    "    ouput : dataFrame containing missing numbers\n",
    "    '''\n",
    "    nb_lignes = df.shape[0]\n",
    "    nb_missing = df.isnull().sum()\n",
    "    nb_missing = nb_missing.sort_values()\n",
    "    df_missing = nb_missing.to_frame()\n",
    "    df_missing.rename(index=str, columns={0: \"nb_missing\"}, inplace=True)\n",
    "    df_missing[\"ratio\"] = 100*df_missing[\"nb_missing\"] / nb_lignes\n",
    "    fig = plt.figure(figsize=(7, 7))\n",
    "    liste_name_bars = df_missing.index.values\n",
    "    liste_name_bars_num = []\n",
    "    for name in liste_name_bars:\n",
    "        liste_name_bars_num.append(\"{} [{}]\".format(\n",
    "            name, df_missing.loc[name, \"nb_missing\"]))\n",
    "    ax = sns.barplot(y=liste_name_bars_num, x='ratio', data=df_missing)\n",
    "    plt.title('Missing lines Ratio over {} lines'.format(nb_lignes))\n",
    "    ax.set(xlabel='repartition [%]')\n",
    "    ax.set_xlim([0, 100])\n",
    "    return df_missing"
   ]
  },
  {
   "cell_type": "markdown",
   "metadata": {},
   "source": [
    "## Loading"
   ]
  },
  {
   "cell_type": "code",
   "execution_count": 6,
   "metadata": {},
   "outputs": [],
   "source": [
    "# loading each sources\n",
    "df_quest = pd.read_csv(PATH_SOURCE_QUESTIONS, sep=',')"
   ]
  },
  {
   "cell_type": "markdown",
   "metadata": {},
   "source": [
    "### Questions"
   ]
  },
  {
   "cell_type": "code",
   "execution_count": 7,
   "metadata": {},
   "outputs": [
    {
     "data": {
      "text/html": [
       "<div>\n",
       "<style scoped>\n",
       "    .dataframe tbody tr th:only-of-type {\n",
       "        vertical-align: middle;\n",
       "    }\n",
       "\n",
       "    .dataframe tbody tr th {\n",
       "        vertical-align: top;\n",
       "    }\n",
       "\n",
       "    .dataframe thead th {\n",
       "        text-align: right;\n",
       "    }\n",
       "</style>\n",
       "<table border=\"1\" class=\"dataframe\">\n",
       "  <thead>\n",
       "    <tr style=\"text-align: right;\">\n",
       "      <th></th>\n",
       "      <th>Id</th>\n",
       "      <th>PostTypeId</th>\n",
       "      <th>AcceptedAnswerId</th>\n",
       "      <th>ParentId</th>\n",
       "      <th>CreationDate</th>\n",
       "      <th>DeletionDate</th>\n",
       "      <th>Score</th>\n",
       "      <th>ViewCount</th>\n",
       "      <th>Body</th>\n",
       "      <th>OwnerUserId</th>\n",
       "      <th>OwnerDisplayName</th>\n",
       "      <th>LastEditorUserId</th>\n",
       "      <th>LastEditorDisplayName</th>\n",
       "      <th>LastEditDate</th>\n",
       "      <th>LastActivityDate</th>\n",
       "      <th>Title</th>\n",
       "      <th>Tags</th>\n",
       "      <th>AnswerCount</th>\n",
       "      <th>CommentCount</th>\n",
       "      <th>FavoriteCount</th>\n",
       "      <th>ClosedDate</th>\n",
       "      <th>CommunityOwnedDate</th>\n",
       "    </tr>\n",
       "  </thead>\n",
       "  <tbody>\n",
       "    <tr>\n",
       "      <th>0</th>\n",
       "      <td>50000002</td>\n",
       "      <td>2</td>\n",
       "      <td>NaN</td>\n",
       "      <td>49999948.0</td>\n",
       "      <td>2018-04-24 11:00:00</td>\n",
       "      <td>NaN</td>\n",
       "      <td>2</td>\n",
       "      <td>NaN</td>\n",
       "      <td>&lt;p&gt;You need to have a  pointer to the &lt;code&gt;ma...</td>\n",
       "      <td>1983495.0</td>\n",
       "      <td>NaN</td>\n",
       "      <td>1983495.0</td>\n",
       "      <td>NaN</td>\n",
       "      <td>2018-04-24 12:14:36</td>\n",
       "      <td>2018-04-24 12:14:36</td>\n",
       "      <td>NaN</td>\n",
       "      <td>NaN</td>\n",
       "      <td>NaN</td>\n",
       "      <td>4</td>\n",
       "      <td>NaN</td>\n",
       "      <td>NaN</td>\n",
       "      <td>NaN</td>\n",
       "    </tr>\n",
       "    <tr>\n",
       "      <th>1</th>\n",
       "      <td>50000003</td>\n",
       "      <td>2</td>\n",
       "      <td>NaN</td>\n",
       "      <td>49995279.0</td>\n",
       "      <td>2018-04-24 11:00:00</td>\n",
       "      <td>NaN</td>\n",
       "      <td>1</td>\n",
       "      <td>NaN</td>\n",
       "      <td>&lt;p&gt;The old state is discarded. If you want to ...</td>\n",
       "      <td>506441.0</td>\n",
       "      <td>NaN</td>\n",
       "      <td>NaN</td>\n",
       "      <td>NaN</td>\n",
       "      <td>NaN</td>\n",
       "      <td>2018-04-24 11:00:00</td>\n",
       "      <td>NaN</td>\n",
       "      <td>NaN</td>\n",
       "      <td>NaN</td>\n",
       "      <td>3</td>\n",
       "      <td>NaN</td>\n",
       "      <td>NaN</td>\n",
       "      <td>NaN</td>\n",
       "    </tr>\n",
       "    <tr>\n",
       "      <th>2</th>\n",
       "      <td>50000004</td>\n",
       "      <td>2</td>\n",
       "      <td>NaN</td>\n",
       "      <td>49999911.0</td>\n",
       "      <td>2018-04-24 11:00:01</td>\n",
       "      <td>NaN</td>\n",
       "      <td>0</td>\n",
       "      <td>NaN</td>\n",
       "      <td>&lt;p&gt;If you are trying to achieve the above outp...</td>\n",
       "      <td>6155965.0</td>\n",
       "      <td>NaN</td>\n",
       "      <td>NaN</td>\n",
       "      <td>NaN</td>\n",
       "      <td>NaN</td>\n",
       "      <td>2018-04-24 11:00:01</td>\n",
       "      <td>NaN</td>\n",
       "      <td>NaN</td>\n",
       "      <td>NaN</td>\n",
       "      <td>6</td>\n",
       "      <td>NaN</td>\n",
       "      <td>NaN</td>\n",
       "      <td>NaN</td>\n",
       "    </tr>\n",
       "    <tr>\n",
       "      <th>3</th>\n",
       "      <td>50000005</td>\n",
       "      <td>1</td>\n",
       "      <td>50000164.0</td>\n",
       "      <td>NaN</td>\n",
       "      <td>2018-04-24 11:00:01</td>\n",
       "      <td>NaN</td>\n",
       "      <td>-4</td>\n",
       "      <td>63.0</td>\n",
       "      <td>&lt;p&gt;My table looks like this  on sql server&lt;/p&gt;...</td>\n",
       "      <td>8217447.0</td>\n",
       "      <td>NaN</td>\n",
       "      <td>3876565.0</td>\n",
       "      <td>NaN</td>\n",
       "      <td>2018-04-24 11:03:32</td>\n",
       "      <td>2018-04-24 13:15:50</td>\n",
       "      <td>How to insert an entry to a table only if it d...</td>\n",
       "      <td>&lt;c#&gt;&lt;sql&gt;&lt;sql-server&gt;</td>\n",
       "      <td>3.0</td>\n",
       "      <td>0</td>\n",
       "      <td>NaN</td>\n",
       "      <td>NaN</td>\n",
       "      <td>NaN</td>\n",
       "    </tr>\n",
       "    <tr>\n",
       "      <th>4</th>\n",
       "      <td>50000006</td>\n",
       "      <td>1</td>\n",
       "      <td>50117317.0</td>\n",
       "      <td>NaN</td>\n",
       "      <td>2018-04-24 11:00:01</td>\n",
       "      <td>NaN</td>\n",
       "      <td>0</td>\n",
       "      <td>199.0</td>\n",
       "      <td>&lt;p&gt;I have Ola Hallengren's excellent Maintenan...</td>\n",
       "      <td>9690333.0</td>\n",
       "      <td>NaN</td>\n",
       "      <td>NaN</td>\n",
       "      <td>NaN</td>\n",
       "      <td>NaN</td>\n",
       "      <td>2018-05-01 13:24:04</td>\n",
       "      <td>System DMV's missing from SQL Server 2017 mast...</td>\n",
       "      <td>&lt;sql-server&gt;&lt;sql-server-data-tools&gt;</td>\n",
       "      <td>1.0</td>\n",
       "      <td>2</td>\n",
       "      <td>NaN</td>\n",
       "      <td>NaN</td>\n",
       "      <td>NaN</td>\n",
       "    </tr>\n",
       "  </tbody>\n",
       "</table>\n",
       "</div>"
      ],
      "text/plain": [
       "         Id  PostTypeId  AcceptedAnswerId    ParentId         CreationDate  \\\n",
       "0  50000002           2               NaN  49999948.0  2018-04-24 11:00:00   \n",
       "1  50000003           2               NaN  49995279.0  2018-04-24 11:00:00   \n",
       "2  50000004           2               NaN  49999911.0  2018-04-24 11:00:01   \n",
       "3  50000005           1        50000164.0         NaN  2018-04-24 11:00:01   \n",
       "4  50000006           1        50117317.0         NaN  2018-04-24 11:00:01   \n",
       "\n",
       "   DeletionDate  Score  ViewCount  \\\n",
       "0           NaN      2        NaN   \n",
       "1           NaN      1        NaN   \n",
       "2           NaN      0        NaN   \n",
       "3           NaN     -4       63.0   \n",
       "4           NaN      0      199.0   \n",
       "\n",
       "                                                Body  OwnerUserId  \\\n",
       "0  <p>You need to have a  pointer to the <code>ma...    1983495.0   \n",
       "1  <p>The old state is discarded. If you want to ...     506441.0   \n",
       "2  <p>If you are trying to achieve the above outp...    6155965.0   \n",
       "3  <p>My table looks like this  on sql server</p>...    8217447.0   \n",
       "4  <p>I have Ola Hallengren's excellent Maintenan...    9690333.0   \n",
       "\n",
       "  OwnerDisplayName  LastEditorUserId LastEditorDisplayName  \\\n",
       "0              NaN         1983495.0                   NaN   \n",
       "1              NaN               NaN                   NaN   \n",
       "2              NaN               NaN                   NaN   \n",
       "3              NaN         3876565.0                   NaN   \n",
       "4              NaN               NaN                   NaN   \n",
       "\n",
       "          LastEditDate     LastActivityDate  \\\n",
       "0  2018-04-24 12:14:36  2018-04-24 12:14:36   \n",
       "1                  NaN  2018-04-24 11:00:00   \n",
       "2                  NaN  2018-04-24 11:00:01   \n",
       "3  2018-04-24 11:03:32  2018-04-24 13:15:50   \n",
       "4                  NaN  2018-05-01 13:24:04   \n",
       "\n",
       "                                               Title  \\\n",
       "0                                                NaN   \n",
       "1                                                NaN   \n",
       "2                                                NaN   \n",
       "3  How to insert an entry to a table only if it d...   \n",
       "4  System DMV's missing from SQL Server 2017 mast...   \n",
       "\n",
       "                                  Tags  AnswerCount  CommentCount  \\\n",
       "0                                  NaN          NaN             4   \n",
       "1                                  NaN          NaN             3   \n",
       "2                                  NaN          NaN             6   \n",
       "3                <c#><sql><sql-server>          3.0             0   \n",
       "4  <sql-server><sql-server-data-tools>          1.0             2   \n",
       "\n",
       "   FavoriteCount ClosedDate CommunityOwnedDate  \n",
       "0            NaN        NaN                NaN  \n",
       "1            NaN        NaN                NaN  \n",
       "2            NaN        NaN                NaN  \n",
       "3            NaN        NaN                NaN  \n",
       "4            NaN        NaN                NaN  "
      ]
     },
     "execution_count": 7,
     "metadata": {},
     "output_type": "execute_result"
    }
   ],
   "source": [
    "df_quest.head()"
   ]
  },
  {
   "cell_type": "code",
   "execution_count": 36,
   "metadata": {},
   "outputs": [
    {
     "data": {
      "text/plain": [
       "50000"
      ]
     },
     "execution_count": 36,
     "metadata": {},
     "output_type": "execute_result"
    }
   ],
   "source": [
    "df_quest[\"Id\"].nunique()"
   ]
  },
  {
   "cell_type": "code",
   "execution_count": 9,
   "metadata": {},
   "outputs": [
    {
     "data": {
      "text/html": [
       "<div>\n",
       "<style scoped>\n",
       "    .dataframe tbody tr th:only-of-type {\n",
       "        vertical-align: middle;\n",
       "    }\n",
       "\n",
       "    .dataframe tbody tr th {\n",
       "        vertical-align: top;\n",
       "    }\n",
       "\n",
       "    .dataframe thead th {\n",
       "        text-align: right;\n",
       "    }\n",
       "</style>\n",
       "<table border=\"1\" class=\"dataframe\">\n",
       "  <thead>\n",
       "    <tr style=\"text-align: right;\">\n",
       "      <th></th>\n",
       "      <th>nb_missing</th>\n",
       "      <th>ratio</th>\n",
       "    </tr>\n",
       "  </thead>\n",
       "  <tbody>\n",
       "    <tr>\n",
       "      <th>Id</th>\n",
       "      <td>0</td>\n",
       "      <td>0.000</td>\n",
       "    </tr>\n",
       "    <tr>\n",
       "      <th>PostTypeId</th>\n",
       "      <td>0</td>\n",
       "      <td>0.000</td>\n",
       "    </tr>\n",
       "    <tr>\n",
       "      <th>LastActivityDate</th>\n",
       "      <td>0</td>\n",
       "      <td>0.000</td>\n",
       "    </tr>\n",
       "    <tr>\n",
       "      <th>CommentCount</th>\n",
       "      <td>0</td>\n",
       "      <td>0.000</td>\n",
       "    </tr>\n",
       "    <tr>\n",
       "      <th>CreationDate</th>\n",
       "      <td>0</td>\n",
       "      <td>0.000</td>\n",
       "    </tr>\n",
       "    <tr>\n",
       "      <th>Score</th>\n",
       "      <td>0</td>\n",
       "      <td>0.000</td>\n",
       "    </tr>\n",
       "    <tr>\n",
       "      <th>Body</th>\n",
       "      <td>24</td>\n",
       "      <td>0.048</td>\n",
       "    </tr>\n",
       "    <tr>\n",
       "      <th>OwnerUserId</th>\n",
       "      <td>508</td>\n",
       "      <td>1.016</td>\n",
       "    </tr>\n",
       "    <tr>\n",
       "      <th>ParentId</th>\n",
       "      <td>21280</td>\n",
       "      <td>42.560</td>\n",
       "    </tr>\n",
       "    <tr>\n",
       "      <th>ViewCount</th>\n",
       "      <td>28792</td>\n",
       "      <td>57.584</td>\n",
       "    </tr>\n",
       "    <tr>\n",
       "      <th>Tags</th>\n",
       "      <td>28792</td>\n",
       "      <td>57.584</td>\n",
       "    </tr>\n",
       "    <tr>\n",
       "      <th>Title</th>\n",
       "      <td>28792</td>\n",
       "      <td>57.584</td>\n",
       "    </tr>\n",
       "    <tr>\n",
       "      <th>AnswerCount</th>\n",
       "      <td>28792</td>\n",
       "      <td>57.584</td>\n",
       "    </tr>\n",
       "    <tr>\n",
       "      <th>LastEditDate</th>\n",
       "      <td>29836</td>\n",
       "      <td>59.672</td>\n",
       "    </tr>\n",
       "    <tr>\n",
       "      <th>LastEditorUserId</th>\n",
       "      <td>30075</td>\n",
       "      <td>60.150</td>\n",
       "    </tr>\n",
       "    <tr>\n",
       "      <th>AcceptedAnswerId</th>\n",
       "      <td>40660</td>\n",
       "      <td>81.320</td>\n",
       "    </tr>\n",
       "    <tr>\n",
       "      <th>FavoriteCount</th>\n",
       "      <td>46675</td>\n",
       "      <td>93.350</td>\n",
       "    </tr>\n",
       "    <tr>\n",
       "      <th>ClosedDate</th>\n",
       "      <td>49076</td>\n",
       "      <td>98.152</td>\n",
       "    </tr>\n",
       "    <tr>\n",
       "      <th>OwnerDisplayName</th>\n",
       "      <td>49482</td>\n",
       "      <td>98.964</td>\n",
       "    </tr>\n",
       "    <tr>\n",
       "      <th>LastEditorDisplayName</th>\n",
       "      <td>49755</td>\n",
       "      <td>99.510</td>\n",
       "    </tr>\n",
       "    <tr>\n",
       "      <th>CommunityOwnedDate</th>\n",
       "      <td>49970</td>\n",
       "      <td>99.940</td>\n",
       "    </tr>\n",
       "    <tr>\n",
       "      <th>DeletionDate</th>\n",
       "      <td>50000</td>\n",
       "      <td>100.000</td>\n",
       "    </tr>\n",
       "  </tbody>\n",
       "</table>\n",
       "</div>"
      ],
      "text/plain": [
       "                       nb_missing    ratio\n",
       "Id                              0    0.000\n",
       "PostTypeId                      0    0.000\n",
       "LastActivityDate                0    0.000\n",
       "CommentCount                    0    0.000\n",
       "CreationDate                    0    0.000\n",
       "Score                           0    0.000\n",
       "Body                           24    0.048\n",
       "OwnerUserId                   508    1.016\n",
       "ParentId                    21280   42.560\n",
       "ViewCount                   28792   57.584\n",
       "Tags                        28792   57.584\n",
       "Title                       28792   57.584\n",
       "AnswerCount                 28792   57.584\n",
       "LastEditDate                29836   59.672\n",
       "LastEditorUserId            30075   60.150\n",
       "AcceptedAnswerId            40660   81.320\n",
       "FavoriteCount               46675   93.350\n",
       "ClosedDate                  49076   98.152\n",
       "OwnerDisplayName            49482   98.964\n",
       "LastEditorDisplayName       49755   99.510\n",
       "CommunityOwnedDate          49970   99.940\n",
       "DeletionDate                50000  100.000"
      ]
     },
     "execution_count": 9,
     "metadata": {},
     "output_type": "execute_result"
    },
    {
     "data": {
      "image/png": "[encoded data removed]",
      "text/plain": [
       "<Figure size 504x504 with 1 Axes>"
      ]
     },
     "metadata": {
      "needs_background": "light"
     },
     "output_type": "display_data"
    }
   ],
   "source": [
    "display_missing(df_quest)"
   ]
  },
  {
   "cell_type": "code",
   "execution_count": 13,
   "metadata": {},
   "outputs": [
    {
     "data": {
      "text/plain": [
       "['Bonjour',\n",
       " ',',\n",
       " 'je',\n",
       " 'suis',\n",
       " 'un',\n",
       " 'texte',\n",
       " \"d'exemple\",\n",
       " 'pour',\n",
       " 'le',\n",
       " 'cours',\n",
       " \"d'Openclassrooms\",\n",
       " '.',\n",
       " 'Soyez',\n",
       " 'attentifs',\n",
       " 'à',\n",
       " 'ce',\n",
       " 'cours',\n",
       " '!']"
      ]
     },
     "execution_count": 13,
     "metadata": {},
     "output_type": "execute_result"
    }
   ],
   "source": [
    "test = \"Bonjour, je suis un texte d'exemple pour le cours d'Openclassrooms. Soyez attentifs à ce cours !\"\n",
    "\n",
    "nltk.word_tokenize(test)"
   ]
  },
  {
   "cell_type": "code",
   "execution_count": 28,
   "metadata": {},
   "outputs": [
    {
     "data": {
      "text/plain": [
       "['Bonjour',\n",
       " 'je',\n",
       " 'suis',\n",
       " 'un',\n",
       " 'texte',\n",
       " 'd',\n",
       " 'exemple',\n",
       " 'pour',\n",
       " 'le',\n",
       " 'cours',\n",
       " 'd',\n",
       " 'Openclassrooms',\n",
       " 'Soyez',\n",
       " 'attentifs',\n",
       " 'à',\n",
       " 'ce',\n",
       " 'cours']"
      ]
     },
     "execution_count": 28,
     "metadata": {},
     "output_type": "execute_result"
    }
   ],
   "source": [
    "tokenizer = nltk.RegexpTokenizer(r'\\w+')\n",
    "tokens_test = tokenizer.tokenize(\"Bonjour, je suis un texte d'exemple pour le cours d'Openclassrooms. Soyez attentifs à ce cours !\")\n",
    "tokens_test"
   ]
  },
  {
   "cell_type": "code",
   "execution_count": 30,
   "metadata": {},
   "outputs": [
    {
     "data": {
      "text/plain": [
       "{'Bonjour',\n",
       " 'Openclassrooms',\n",
       " 'Soyez',\n",
       " 'attentifs',\n",
       " 'ce',\n",
       " 'cours',\n",
       " 'd',\n",
       " 'exemple',\n",
       " 'je',\n",
       " 'le',\n",
       " 'pour',\n",
       " 'suis',\n",
       " 'texte',\n",
       " 'un',\n",
       " 'à'}"
      ]
     },
     "execution_count": 30,
     "metadata": {},
     "output_type": "execute_result"
    }
   ],
   "source": [
    "set(tokens_test)"
   ]
  },
  {
   "cell_type": "code",
   "execution_count": 29,
   "metadata": {},
   "outputs": [
    {
     "data": {
      "text/plain": [
       "list"
      ]
     },
     "execution_count": 29,
     "metadata": {},
     "output_type": "execute_result"
    }
   ],
   "source": [
    "type(tokens_test)"
   ]
  },
  {
   "cell_type": "code",
   "execution_count": 32,
   "metadata": {},
   "outputs": [
    {
     "data": {
      "text/plain": [
       "'\\n# test du marche pas du au format\\n\\ndef my_tokenizer(text_str):\\n    \\n    if text_str == np.nan :\\n        return np.nan\\n    \\n    tokenizer = nltk.RegexpTokenizer(r\\'\\\\w+\\')\\n    return tokenizer.tokenize(text_str)\\n    \\ndf_quest[\"body_tokens\"] = df_quest[\"Body\"].apply(my_tokenizer)\\ndf_quest.head()\\n'"
      ]
     },
     "execution_count": 32,
     "metadata": {},
     "output_type": "execute_result"
    }
   ],
   "source": [
    "'''\n",
    "# test du marche pas du au format\n",
    "\n",
    "def my_tokenizer(text_str):\n",
    "    \n",
    "    if text_str == np.nan :\n",
    "        return np.nan\n",
    "    \n",
    "    tokenizer = nltk.RegexpTokenizer(r'\\w+')\n",
    "    return tokenizer.tokenize(text_str)\n",
    "    \n",
    "df_quest[\"body_tokens\"] = df_quest[\"Body\"].apply(my_tokenizer)\n",
    "df_quest.head()\n",
    "'''"
   ]
  },
  {
   "cell_type": "code",
   "execution_count": 56,
   "metadata": {},
   "outputs": [
    {
     "name": "stdout",
     "output_type": "stream",
     "text": [
      "50000 questions\n"
     ]
    }
   ],
   "source": [
    "\n",
    "#questions = defaultdict(set)\n",
    "\n",
    "questions = df_quest.filter(items=[\"Body\"]).to_dict()\n",
    "questions = questions[\"Body\"]\n",
    "print('{} questions'.format(len(questions)))"
   ]
  },
  {
   "cell_type": "code",
   "execution_count": 59,
   "metadata": {},
   "outputs": [
    {
     "data": {
      "text/plain": [
       "'<p>You need to have a  pointer to the <code>malloc()</code>ed area, you can <em>mimic</em> <code>malloc()</code>\\'s behavior like this</p>\\n\\n<pre><code>int *gener_random(int size) {\\n    int *values = malloc(size * sizeof(values));\\n    for(int i = 0; i &lt; size; i++)\\n        values[i] = rand(); \\n    return values;\\n}\\n</code></pre>\\n\\n<p>The reason your code doesn\\'t work is largely discussed on <a href=\"https://stackoverflow.com\">Stack Overflow</a>, your <code>int *value</code> parameter is local to <code>gener_random()</code> and making it point to the return value of <code>malloc()</code> does not change your <code>main()</code>\\'s <code>values</code>, it does only make the local pointer point to new memory and you lose the reference when the function returns.</p>\\n\\n<p>Two acceptable techniques exist,</p>\\n\\n<ol>\\n<li><p>Return the locally declared pointer after you check that it was succesfuly allocated.</p>\\n\\n<pre><code>int *gener_random(int size) {\\n    int *values = malloc(size * sizeof(values));\\n    if (values == NULL)\\n        return NULL;\\n    for(int i = 0; i &lt; size; i++)\\n        values[i] = rand(); \\n    return values;\\n}\\n</code></pre></li>\\n<li><p>Pass a pointer to the pointer itself and alter the variable in the function instead of the pointer value only.</p>\\n\\n<pre><code>void gener_random(int size, int **values) {\\n    // Dereference the pointer to the pointer, to work\\n    // on the variable declared in `main()\\' (the original pointer)\\n    *values = malloc(size * sizeof(values));\\n    if (*values == NULL) // Perhaps reutnr `int\\' and error code\\n        return;\\n    for(int i = 0; i &lt; size; i++)\\n        (*values)[i] = rand(); \\n}\\n</code></pre></li>\\n</ol>\\n'"
      ]
     },
     "execution_count": 59,
     "metadata": {},
     "output_type": "execute_result"
    }
   ],
   "source": [
    "questions[0]"
   ]
  },
  {
   "cell_type": "code",
   "execution_count": 106,
   "metadata": {
    "scrolled": false
   },
   "outputs": [
    {
     "name": "stdout",
     "output_type": "stream",
     "text": [
      "Qestion 654 : Error body empty\n",
      "Qestion 8466 : Error body empty\n",
      "Qestion 9964 : Error body empty\n",
      "Qestion 9965 : Error body empty\n",
      "Qestion 11670 : Error body empty\n",
      "Qestion 11671 : Error body empty\n",
      "Qestion 18756 : Error body empty\n",
      "Qestion 19659 : Error body empty\n",
      "Qestion 26623 : Error body empty\n",
      "Qestion 27991 : Error body empty\n",
      "Qestion 27992 : Error body empty\n",
      "Qestion 28372 : Error body empty\n",
      "Qestion 28373 : Error body empty\n",
      "Qestion 29300 : Error body empty\n",
      "Qestion 31667 : Error body empty\n",
      "Qestion 31668 : Error body empty\n",
      "Qestion 31763 : Error body empty\n",
      "Qestion 31764 : Error body empty\n",
      "Qestion 39923 : Error body empty\n",
      "Qestion 40623 : Error body empty\n",
      "Qestion 40641 : Error body empty\n",
      "Qestion 42311 : Error body empty\n",
      "Qestion 42312 : Error body empty\n",
      "Qestion 48402 : Error body empty\n"
     ]
    }
   ],
   "source": [
    "tokenizer = nltk.RegexpTokenizer(r'\\w+')\n",
    "\n",
    "def freq_stats_corpora():\n",
    "    corpora = defaultdict(list)\n",
    "\n",
    "    # Création d'un corpus de tokens par artiste\n",
    "    for id_curr,questions_curr in questions.items():\n",
    "        #print(id_curr)\n",
    "        try:\n",
    "            corpora[id_curr] += tokenizer.tokenize(questions_curr.lower())\n",
    "        except:\n",
    "            print('Question {} : Error body empty'.format(id_curr))\n",
    "            \n",
    "\n",
    "    stats, freq = dict(), dict()\n",
    "\n",
    "    for k, v in corpora.items():\n",
    "        freq[k] = fq = nltk.FreqDist(v)\n",
    "        stats[k] = {'total': len(v), 'unique': len(fq.keys())}\n",
    "        \n",
    "    return (freq, stats, corpora)\n",
    "\n",
    "# Récupération des comptages\n",
    "freq, stats, corpora = freq_stats_corpora()\n",
    "df_stats = pd.DataFrame.from_dict(stats, orient='index')\n",
    "\n",
    "# Affichage des fréquences\n",
    "#df.sort(columns='total', ascending=False)\n",
    "#df = df.sort_values(by=['total'], ascending=False)\n",
    "#df.head(50).plot(kind='bar', color=\"#f56900\", title='Top 50 Rappeurs par nombre de mots')"
   ]
  },
  {
   "cell_type": "code",
   "execution_count": 117,
   "metadata": {},
   "outputs": [
    {
     "data": {
      "text/html": [
       "<div>\n",
       "<style scoped>\n",
       "    .dataframe tbody tr th:only-of-type {\n",
       "        vertical-align: middle;\n",
       "    }\n",
       "\n",
       "    .dataframe tbody tr th {\n",
       "        vertical-align: top;\n",
       "    }\n",
       "\n",
       "    .dataframe thead th {\n",
       "        text-align: right;\n",
       "    }\n",
       "</style>\n",
       "<table border=\"1\" class=\"dataframe\">\n",
       "  <thead>\n",
       "    <tr style=\"text-align: right;\">\n",
       "      <th></th>\n",
       "      <th>total</th>\n",
       "      <th>unique</th>\n",
       "    </tr>\n",
       "  </thead>\n",
       "  <tbody>\n",
       "    <tr>\n",
       "      <th>0</th>\n",
       "      <td>264</td>\n",
       "      <td>95</td>\n",
       "    </tr>\n",
       "    <tr>\n",
       "      <th>1</th>\n",
       "      <td>123</td>\n",
       "      <td>73</td>\n",
       "    </tr>\n",
       "    <tr>\n",
       "      <th>2</th>\n",
       "      <td>21</td>\n",
       "      <td>20</td>\n",
       "    </tr>\n",
       "    <tr>\n",
       "      <th>3</th>\n",
       "      <td>68</td>\n",
       "      <td>42</td>\n",
       "    </tr>\n",
       "    <tr>\n",
       "      <th>4</th>\n",
       "      <td>411</td>\n",
       "      <td>192</td>\n",
       "    </tr>\n",
       "  </tbody>\n",
       "</table>\n",
       "</div>"
      ],
      "text/plain": [
       "   total  unique\n",
       "0    264      95\n",
       "1    123      73\n",
       "2     21      20\n",
       "3     68      42\n",
       "4    411     192"
      ]
     },
     "execution_count": 117,
     "metadata": {},
     "output_type": "execute_result"
    }
   ],
   "source": [
    "df_stats.head()"
   ]
  },
  {
   "cell_type": "code",
   "execution_count": 119,
   "metadata": {
    "scrolled": false
   },
   "outputs": [
    {
     "data": {
      "text/plain": [
       "<matplotlib.axes._subplots.AxesSubplot at 0x1a8b60d2e8>"
      ]
     },
     "execution_count": 119,
     "metadata": {},
     "output_type": "execute_result"
    },
    {
     "data": {
      "image/png": "[encoded data removed]",
      "text/plain": [
       "<Figure size 1152x648 with 1 Axes>"
      ]
     },
     "metadata": {},
     "output_type": "display_data"
    }
   ],
   "source": [
    "fig = plt.figure(figsize=(16, 9))\n",
    "plt.title(\"Number of Unique words  & Number of words in each questions\")\n",
    "df_plot = df_stats.sort_values(by=['total'], ascending=False).head(50)\n",
    "ax = sns.barplot(y=df_plot.index, order= df_plot.index,\n",
    "            x=\"total\",orient=\"h\",\n",
    "            data=df_plot, alpha=0.3)\n",
    "sns.barplot(y=df_plot.index, order= df_plot.index,\n",
    "            x=\"unique\",orient=\"h\",\n",
    "            data=df_plot, ax=ax)"
   ]
  },
  {
   "cell_type": "code",
   "execution_count": 110,
   "metadata": {},
   "outputs": [
    {
     "data": {
      "text/html": [
       "<div>\n",
       "<style scoped>\n",
       "    .dataframe tbody tr th:only-of-type {\n",
       "        vertical-align: middle;\n",
       "    }\n",
       "\n",
       "    .dataframe tbody tr th {\n",
       "        vertical-align: top;\n",
       "    }\n",
       "\n",
       "    .dataframe thead th {\n",
       "        text-align: right;\n",
       "    }\n",
       "</style>\n",
       "<table border=\"1\" class=\"dataframe\">\n",
       "  <thead>\n",
       "    <tr style=\"text-align: right;\">\n",
       "      <th></th>\n",
       "      <th>8569</th>\n",
       "      <th>31788</th>\n",
       "      <th>26175</th>\n",
       "      <th>328</th>\n",
       "      <th>13840</th>\n",
       "      <th>47201</th>\n",
       "      <th>7738</th>\n",
       "      <th>5560</th>\n",
       "      <th>40370</th>\n",
       "      <th>41620</th>\n",
       "      <th>10964</th>\n",
       "      <th>566</th>\n",
       "      <th>...</th>\n",
       "      <th>48635</th>\n",
       "      <th>7792</th>\n",
       "      <th>31881</th>\n",
       "      <th>7349</th>\n",
       "      <th>45060</th>\n",
       "      <th>11617</th>\n",
       "      <th>20108</th>\n",
       "      <th>12572</th>\n",
       "      <th>8692</th>\n",
       "      <th>13063</th>\n",
       "      <th>48710</th>\n",
       "      <th>31674</th>\n",
       "    </tr>\n",
       "  </thead>\n",
       "  <tbody>\n",
       "    <tr>\n",
       "      <th>total</th>\n",
       "      <td>8318</td>\n",
       "      <td>5572</td>\n",
       "      <td>5103</td>\n",
       "      <td>4911</td>\n",
       "      <td>4603</td>\n",
       "      <td>4484</td>\n",
       "      <td>4094</td>\n",
       "      <td>4087</td>\n",
       "      <td>4067</td>\n",
       "      <td>3798</td>\n",
       "      <td>3741</td>\n",
       "      <td>3698</td>\n",
       "      <td>...</td>\n",
       "      <td>2941</td>\n",
       "      <td>2919</td>\n",
       "      <td>2891</td>\n",
       "      <td>2876</td>\n",
       "      <td>2867</td>\n",
       "      <td>2863</td>\n",
       "      <td>2794</td>\n",
       "      <td>2749</td>\n",
       "      <td>2707</td>\n",
       "      <td>2636</td>\n",
       "      <td>2614</td>\n",
       "      <td>2613</td>\n",
       "    </tr>\n",
       "    <tr>\n",
       "      <th>unique</th>\n",
       "      <td>526</td>\n",
       "      <td>286</td>\n",
       "      <td>1091</td>\n",
       "      <td>257</td>\n",
       "      <td>682</td>\n",
       "      <td>413</td>\n",
       "      <td>543</td>\n",
       "      <td>1085</td>\n",
       "      <td>392</td>\n",
       "      <td>183</td>\n",
       "      <td>491</td>\n",
       "      <td>765</td>\n",
       "      <td>...</td>\n",
       "      <td>406</td>\n",
       "      <td>514</td>\n",
       "      <td>393</td>\n",
       "      <td>308</td>\n",
       "      <td>212</td>\n",
       "      <td>464</td>\n",
       "      <td>422</td>\n",
       "      <td>467</td>\n",
       "      <td>428</td>\n",
       "      <td>644</td>\n",
       "      <td>519</td>\n",
       "      <td>361</td>\n",
       "    </tr>\n",
       "  </tbody>\n",
       "</table>\n",
       "<p>2 rows × 50 columns</p>\n",
       "</div>"
      ],
      "text/plain": [
       "        8569   31788  26175  328    13840  47201  7738   5560   40370  41620  \\\n",
       "total    8318   5572   5103   4911   4603   4484   4094   4087   4067   3798   \n",
       "unique    526    286   1091    257    682    413    543   1085    392    183   \n",
       "\n",
       "        10964  566    ...    48635  7792   31881  7349   45060  11617  20108  \\\n",
       "total    3741   3698  ...     2941   2919   2891   2876   2867   2863   2794   \n",
       "unique    491    765  ...      406    514    393    308    212    464    422   \n",
       "\n",
       "        12572  8692   13063  48710  31674  \n",
       "total    2749   2707   2636   2614   2613  \n",
       "unique    467    428    644    519    361  \n",
       "\n",
       "[2 rows x 50 columns]"
      ]
     },
     "execution_count": 110,
     "metadata": {},
     "output_type": "execute_result"
    }
   ],
   "source": [
    "df_plot.T"
   ]
  },
  {
   "cell_type": "code",
   "execution_count": 111,
   "metadata": {},
   "outputs": [
    {
     "data": {
      "text/plain": [
       "32096"
      ]
     },
     "execution_count": 111,
     "metadata": {},
     "output_type": "execute_result"
    }
   ],
   "source": [
    "len(df_quest.loc[8569].Body)"
   ]
  },
  {
   "cell_type": "code",
   "execution_count": 112,
   "metadata": {},
   "outputs": [
    {
     "data": {
      "text/plain": [
       "48"
      ]
     },
     "execution_count": 112,
     "metadata": {},
     "output_type": "execute_result"
    }
   ],
   "source": [
    "len(df_quest.loc[43836].Body) "
   ]
  },
  {
   "cell_type": "code",
   "execution_count": 113,
   "metadata": {},
   "outputs": [
    {
     "data": {
      "text/plain": [
       "'<p>self.scrollToRow(at: indexPath.last ...)</p>\\n'"
      ]
     },
     "execution_count": 113,
     "metadata": {},
     "output_type": "execute_result"
    }
   ],
   "source": [
    "df_quest.loc[43836].Body"
   ]
  },
  {
   "cell_type": "code",
   "execution_count": 114,
   "metadata": {},
   "outputs": [
    {
     "data": {
      "text/plain": [
       "['p', 'self', 'scrollToRow', 'at', 'indexPath', 'last', 'p']"
      ]
     },
     "execution_count": 114,
     "metadata": {},
     "output_type": "execute_result"
    }
   ],
   "source": [
    "tokenizer.tokenize(df_quest.loc[43836].Body)"
   ]
  },
  {
   "cell_type": "code",
   "execution_count": 115,
   "metadata": {},
   "outputs": [
    {
     "data": {
      "text/plain": [
       "'tEst test'"
      ]
     },
     "execution_count": 115,
     "metadata": {},
     "output_type": "execute_result"
    }
   ],
   "source": [
    "'tEst test'.encode('utf-8').decode('utf-8')"
   ]
  },
  {
   "cell_type": "code",
   "execution_count": 120,
   "metadata": {},
   "outputs": [
    {
     "ename": "NameError",
     "evalue": "name 'freq2' is not defined",
     "output_type": "error",
     "traceback": [
      "\u001b[0;31m---------------------------------------------------------------------------\u001b[0m",
      "\u001b[0;31mNameError\u001b[0m                                 Traceback (most recent call last)",
      "\u001b[0;32m<ipython-input-120-3a730ddb1a84>\u001b[0m in \u001b[0;36m<module>\u001b[0;34m\u001b[0m\n\u001b[1;32m      5\u001b[0m \u001b[0;34m\u001b[0m\u001b[0m\n\u001b[1;32m      6\u001b[0m \u001b[0;31m# Deuxièmement on décide manière un peu arbitraire du nombre de mots les plus fréquents à supprimer. On pourrait afficher un graphe d'évolution du nombre de mots pour se rendre compte et avoir une meilleure heuristique.\u001b[0m\u001b[0;34m\u001b[0m\u001b[0;34m\u001b[0m\u001b[0;34m\u001b[0m\u001b[0m\n\u001b[0;32m----> 7\u001b[0;31m \u001b[0mmost_freq\u001b[0m \u001b[0;34m=\u001b[0m \u001b[0mzip\u001b[0m\u001b[0;34m(\u001b[0m\u001b[0;34m*\u001b[0m\u001b[0mfreq2\u001b[0m\u001b[0;34m.\u001b[0m\u001b[0mmost_common\u001b[0m\u001b[0;34m(\u001b[0m\u001b[0;36m100\u001b[0m\u001b[0;34m)\u001b[0m\u001b[0;34m)\u001b[0m\u001b[0;34m[\u001b[0m\u001b[0;36m0\u001b[0m\u001b[0;34m]\u001b[0m\u001b[0;34m\u001b[0m\u001b[0;34m\u001b[0m\u001b[0m\n\u001b[0m\u001b[1;32m      8\u001b[0m \u001b[0;34m\u001b[0m\u001b[0m\n\u001b[1;32m      9\u001b[0m \u001b[0;31m# On créé notre set de stopwords final qui cumule ainsi les 100 mots les plus fréquents du corpus ainsi que l'ensemble de stopwords par défaut présent dans la librairie NLTK\u001b[0m\u001b[0;34m\u001b[0m\u001b[0;34m\u001b[0m\u001b[0;34m\u001b[0m\u001b[0m\n",
      "\u001b[0;31mNameError\u001b[0m: name 'freq2' is not defined"
     ]
    }
   ],
   "source": [
    "# Premièrement, on récupère la fréquence totale de chaque mot sur tout le corpus d'artistes\n",
    "freq_totale = nltk.Counter()\n",
    "for k, v in questions.items():\n",
    "    freq_totale += freq[k]\n",
    "\n"
   ]
  },
  {
   "cell_type": "code",
   "execution_count": 145,
   "metadata": {},
   "outputs": [
    {
     "data": {
      "text/plain": [
       "{'0',\n",
       " '1',\n",
       " '2',\n",
       " '3',\n",
       " '4',\n",
       " '5',\n",
       " 'a',\n",
       " 'about',\n",
       " 'above',\n",
       " 'after',\n",
       " 'again',\n",
       " 'against',\n",
       " 'ain',\n",
       " 'all',\n",
       " 'am',\n",
       " 'amp',\n",
       " 'an',\n",
       " 'and',\n",
       " 'android',\n",
       " 'any',\n",
       " 'are',\n",
       " 'aren',\n",
       " \"aren't\",\n",
       " 'as',\n",
       " 'at',\n",
       " 'be',\n",
       " 'because',\n",
       " 'been',\n",
       " 'before',\n",
       " 'being',\n",
       " 'below',\n",
       " 'between',\n",
       " 'both',\n",
       " 'but',\n",
       " 'by',\n",
       " 'c',\n",
       " 'can',\n",
       " 'class',\n",
       " 'code',\n",
       " 'com',\n",
       " 'couldn',\n",
       " \"couldn't\",\n",
       " 'd',\n",
       " 'data',\n",
       " 'did',\n",
       " 'didn',\n",
       " \"didn't\",\n",
       " 'div',\n",
       " 'do',\n",
       " 'does',\n",
       " 'doesn',\n",
       " \"doesn't\",\n",
       " 'doing',\n",
       " 'don',\n",
       " \"don't\",\n",
       " 'down',\n",
       " 'during',\n",
       " 'each',\n",
       " 'em',\n",
       " 'error',\n",
       " 'false',\n",
       " 'few',\n",
       " 'file',\n",
       " 'for',\n",
       " 'from',\n",
       " 'function',\n",
       " 'further',\n",
       " 'get',\n",
       " 'gt',\n",
       " 'had',\n",
       " 'hadn',\n",
       " \"hadn't\",\n",
       " 'has',\n",
       " 'hasn',\n",
       " \"hasn't\",\n",
       " 'have',\n",
       " 'haven',\n",
       " \"haven't\",\n",
       " 'having',\n",
       " 'he',\n",
       " 'her',\n",
       " 'here',\n",
       " 'hers',\n",
       " 'herself',\n",
       " 'him',\n",
       " 'himself',\n",
       " 'his',\n",
       " 'how',\n",
       " 'href',\n",
       " 'html',\n",
       " 'https',\n",
       " 'i',\n",
       " 'id',\n",
       " 'if',\n",
       " 'import',\n",
       " 'in',\n",
       " 'int',\n",
       " 'into',\n",
       " 'is',\n",
       " 'isn',\n",
       " \"isn't\",\n",
       " 'it',\n",
       " \"it's\",\n",
       " 'its',\n",
       " 'itself',\n",
       " 'java',\n",
       " 'js',\n",
       " 'just',\n",
       " 'li',\n",
       " 'like',\n",
       " 'll',\n",
       " 'lt',\n",
       " 'm',\n",
       " 'ma',\n",
       " 'me',\n",
       " 'mightn',\n",
       " \"mightn't\",\n",
       " 'more',\n",
       " 'most',\n",
       " 'mustn',\n",
       " \"mustn't\",\n",
       " 'my',\n",
       " 'myself',\n",
       " 'name',\n",
       " 'needn',\n",
       " \"needn't\",\n",
       " 'new',\n",
       " 'no',\n",
       " 'nofollow',\n",
       " 'nor',\n",
       " 'noreferrer',\n",
       " 'not',\n",
       " 'now',\n",
       " 'o',\n",
       " 'of',\n",
       " 'off',\n",
       " 'on',\n",
       " 'once',\n",
       " 'only',\n",
       " 'or',\n",
       " 'org',\n",
       " 'other',\n",
       " 'our',\n",
       " 'ours',\n",
       " 'ourselves',\n",
       " 'out',\n",
       " 'over',\n",
       " 'own',\n",
       " 'p',\n",
       " 'pre',\n",
       " 'public',\n",
       " 're',\n",
       " 'rel',\n",
       " 'return',\n",
       " 's',\n",
       " 'same',\n",
       " 'set',\n",
       " 'shan',\n",
       " \"shan't\",\n",
       " 'she',\n",
       " \"she's\",\n",
       " 'should',\n",
       " \"should've\",\n",
       " 'shouldn',\n",
       " \"shouldn't\",\n",
       " 'so',\n",
       " 'some',\n",
       " 'string',\n",
       " 'strong',\n",
       " 'such',\n",
       " 't',\n",
       " 'text',\n",
       " 'than',\n",
       " 'that',\n",
       " \"that'll\",\n",
       " 'the',\n",
       " 'their',\n",
       " 'theirs',\n",
       " 'them',\n",
       " 'themselves',\n",
       " 'then',\n",
       " 'there',\n",
       " 'these',\n",
       " 'they',\n",
       " 'this',\n",
       " 'those',\n",
       " 'through',\n",
       " 'to',\n",
       " 'too',\n",
       " 'true',\n",
       " 'type',\n",
       " 'under',\n",
       " 'until',\n",
       " 'up',\n",
       " 'use',\n",
       " 'user',\n",
       " 'using',\n",
       " 'value',\n",
       " 'var',\n",
       " 've',\n",
       " 'very',\n",
       " 'want',\n",
       " 'was',\n",
       " 'wasn',\n",
       " \"wasn't\",\n",
       " 'we',\n",
       " 'were',\n",
       " 'weren',\n",
       " \"weren't\",\n",
       " 'what',\n",
       " 'when',\n",
       " 'where',\n",
       " 'which',\n",
       " 'while',\n",
       " 'who',\n",
       " 'whom',\n",
       " 'why',\n",
       " 'will',\n",
       " 'with',\n",
       " 'won',\n",
       " \"won't\",\n",
       " 'wouldn',\n",
       " \"wouldn't\",\n",
       " 'x',\n",
       " 'y',\n",
       " 'you',\n",
       " \"you'd\",\n",
       " \"you'll\",\n",
       " \"you're\",\n",
       " \"you've\",\n",
       " 'your',\n",
       " 'yours',\n",
       " 'yourself',\n",
       " 'yourselves'}"
      ]
     },
     "execution_count": 145,
     "metadata": {},
     "output_type": "execute_result"
    }
   ],
   "source": [
    "# Deuxièmement on décide manière un peu arbitraire du nombre de mots les plus \n",
    "# fréquents à supprimer. On pourrait afficher un graphe d'évolution du nombre \n",
    "# de mots pour se rendre compte et avoir une meilleure heuristique. \n",
    "# On créé notre set de stopwords final qui cumule ainsi les 100 mots les plus \n",
    "# fréquents du corpus ainsi que l'ensemble de stopwords par défaut présent \n",
    "# dans la librairie NLTK\n",
    "most_freq = freq_totale.most_common(100)\n",
    "sw = set()\n",
    "for tuple_freq in most_freq:\n",
    "    sw.add(tuple_freq[0])\n",
    "    \n",
    "sw.update(tuple(nltk.corpus.stopwords.words('english')))\n",
    "sw"
   ]
  },
  {
   "cell_type": "code",
   "execution_count": 146,
   "metadata": {},
   "outputs": [
    {
     "name": "stdout",
     "output_type": "stream",
     "text": [
      "Question 654 : Error body empty\n",
      "Question 8466 : Error body empty\n",
      "Question 9964 : Error body empty\n",
      "Question 9965 : Error body empty\n",
      "Question 11670 : Error body empty\n",
      "Question 11671 : Error body empty\n",
      "Question 18756 : Error body empty\n",
      "Question 19659 : Error body empty\n",
      "Question 26623 : Error body empty\n",
      "Question 27991 : Error body empty\n",
      "Question 27992 : Error body empty\n",
      "Question 28372 : Error body empty\n",
      "Question 28373 : Error body empty\n",
      "Question 29300 : Error body empty\n",
      "Question 31667 : Error body empty\n",
      "Question 31668 : Error body empty\n",
      "Question 31763 : Error body empty\n",
      "Question 31764 : Error body empty\n",
      "Question 39923 : Error body empty\n",
      "Question 40623 : Error body empty\n",
      "Question 40641 : Error body empty\n",
      "Question 42311 : Error body empty\n",
      "Question 42312 : Error body empty\n",
      "Question 48402 : Error body empty\n"
     ]
    }
   ],
   "source": [
    "def freq_stats_corpora2():\n",
    "    corpora = defaultdict(list)\n",
    "\n",
    "    # Création d'un corpus de tokens par artiste\n",
    "    for id_curr,questions_curr in questions.items():\n",
    "        #print(id_curr)\n",
    "        try:\n",
    "            tokens = tokenizer.tokenize(questions_curr.lower())\n",
    "            corpora[id_curr] += [w for w in tokens if not w in list(sw)]\n",
    "        except:\n",
    "            print('Question {} : Error body empty'.format(id_curr))\n",
    "            \n",
    "\n",
    "    stats, freq = dict(), dict()\n",
    "\n",
    "    for k, v in corpora.items():\n",
    "        freq[k] = fq = nltk.FreqDist(v)\n",
    "        stats[k] = {'total': len(v), 'unique': len(fq.keys())}\n",
    "        \n",
    "    return (freq, stats, corpora)\n",
    "\n",
    "freq2, stats2, corpora2 = freq_stats_corpora2()"
   ]
  },
  {
   "cell_type": "code",
   "execution_count": 148,
   "metadata": {},
   "outputs": [
    {
     "data": {
      "text/html": [
       "<div>\n",
       "<style scoped>\n",
       "    .dataframe tbody tr th:only-of-type {\n",
       "        vertical-align: middle;\n",
       "    }\n",
       "\n",
       "    .dataframe tbody tr th {\n",
       "        vertical-align: top;\n",
       "    }\n",
       "\n",
       "    .dataframe thead th {\n",
       "        text-align: right;\n",
       "    }\n",
       "</style>\n",
       "<table border=\"1\" class=\"dataframe\">\n",
       "  <thead>\n",
       "    <tr style=\"text-align: right;\">\n",
       "      <th></th>\n",
       "      <th>total</th>\n",
       "      <th>unique</th>\n",
       "    </tr>\n",
       "  </thead>\n",
       "  <tbody>\n",
       "    <tr>\n",
       "      <th>0</th>\n",
       "      <td>101</td>\n",
       "      <td>50</td>\n",
       "    </tr>\n",
       "    <tr>\n",
       "      <th>1</th>\n",
       "      <td>56</td>\n",
       "      <td>40</td>\n",
       "    </tr>\n",
       "    <tr>\n",
       "      <th>2</th>\n",
       "      <td>8</td>\n",
       "      <td>8</td>\n",
       "    </tr>\n",
       "    <tr>\n",
       "      <th>3</th>\n",
       "      <td>31</td>\n",
       "      <td>22</td>\n",
       "    </tr>\n",
       "    <tr>\n",
       "      <th>4</th>\n",
       "      <td>202</td>\n",
       "      <td>120</td>\n",
       "    </tr>\n",
       "  </tbody>\n",
       "</table>\n",
       "</div>"
      ],
      "text/plain": [
       "   total  unique\n",
       "0    101      50\n",
       "1     56      40\n",
       "2      8       8\n",
       "3     31      22\n",
       "4    202     120"
      ]
     },
     "execution_count": 148,
     "metadata": {},
     "output_type": "execute_result"
    }
   ],
   "source": [
    "df_stats2 = pd.DataFrame.from_dict(stats2, orient='index')\n",
    "df_stats2.head()"
   ]
  },
  {
   "cell_type": "code",
   "execution_count": 150,
   "metadata": {},
   "outputs": [
    {
     "data": {
      "text/plain": [
       "<matplotlib.axes._subplots.AxesSubplot at 0x1a9cd5bc88>"
      ]
     },
     "execution_count": 150,
     "metadata": {},
     "output_type": "execute_result"
    },
    {
     "data": {
      "image/png": "[encoded data removed]",
      "text/plain": [
       "<Figure size 1152x720 with 1 Axes>"
      ]
     },
     "metadata": {},
     "output_type": "display_data"
    }
   ],
   "source": [
    "fig = plt.figure(figsize=(16, 10))\n",
    "plt.title(\"Number of Unique significant words  & Number of words in each questions\")\n",
    "df_plot = df_stats2.sort_values(by=['total'], ascending=False).head(50)\n",
    "ax = sns.barplot(y=df_plot.index, order= df_plot.index,\n",
    "            x=\"total\",orient=\"h\",\n",
    "            data=df_plot, alpha=0.3)\n",
    "sns.barplot(y=df_plot.index, order= df_plot.index,\n",
    "            x=\"unique\",orient=\"h\",\n",
    "            data=df_plot, ax=ax)"
   ]
  },
  {
   "cell_type": "code",
   "execution_count": 151,
   "metadata": {},
   "outputs": [
    {
     "data": {
      "text/html": [
       "<div>\n",
       "<style scoped>\n",
       "    .dataframe tbody tr th:only-of-type {\n",
       "        vertical-align: middle;\n",
       "    }\n",
       "\n",
       "    .dataframe tbody tr th {\n",
       "        vertical-align: top;\n",
       "    }\n",
       "\n",
       "    .dataframe thead th {\n",
       "        text-align: right;\n",
       "    }\n",
       "</style>\n",
       "<table border=\"1\" class=\"dataframe\">\n",
       "  <thead>\n",
       "    <tr style=\"text-align: right;\">\n",
       "      <th></th>\n",
       "      <th>total</th>\n",
       "      <th>unique</th>\n",
       "    </tr>\n",
       "  </thead>\n",
       "  <tbody>\n",
       "    <tr>\n",
       "      <th>26175</th>\n",
       "      <td>4531</td>\n",
       "      <td>1033</td>\n",
       "    </tr>\n",
       "    <tr>\n",
       "      <th>47201</th>\n",
       "      <td>3540</td>\n",
       "      <td>396</td>\n",
       "    </tr>\n",
       "    <tr>\n",
       "      <th>13840</th>\n",
       "      <td>3418</td>\n",
       "      <td>610</td>\n",
       "    </tr>\n",
       "    <tr>\n",
       "      <th>7738</th>\n",
       "      <td>3386</td>\n",
       "      <td>475</td>\n",
       "    </tr>\n",
       "    <tr>\n",
       "      <th>37226</th>\n",
       "      <td>3229</td>\n",
       "      <td>208</td>\n",
       "    </tr>\n",
       "  </tbody>\n",
       "</table>\n",
       "</div>"
      ],
      "text/plain": [
       "       total  unique\n",
       "26175   4531    1033\n",
       "47201   3540     396\n",
       "13840   3418     610\n",
       "7738    3386     475\n",
       "37226   3229     208"
      ]
     },
     "execution_count": 151,
     "metadata": {},
     "output_type": "execute_result"
    }
   ],
   "source": [
    "df_plot.head()"
   ]
  },
  {
   "cell_type": "code",
   "execution_count": 153,
   "metadata": {},
   "outputs": [
    {
     "data": {
      "text/plain": [
       "total     4531\n",
       "unique    1033\n",
       "Name: 26175, dtype: int64"
      ]
     },
     "execution_count": 153,
     "metadata": {},
     "output_type": "execute_result"
    }
   ],
   "source": [
    "df_stats2.loc[26175]"
   ]
  },
  {
   "cell_type": "code",
   "execution_count": 154,
   "metadata": {},
   "outputs": [
    {
     "data": {
      "text/plain": [
       "total     5103\n",
       "unique    1091\n",
       "Name: 26175, dtype: int64"
      ]
     },
     "execution_count": 154,
     "metadata": {},
     "output_type": "execute_result"
    }
   ],
   "source": [
    "df_stats.loc[26175]"
   ]
  },
  {
   "cell_type": "code",
   "execution_count": null,
   "metadata": {},
   "outputs": [],
   "source": []
  }
 ],
 "metadata": {
  "kernelspec": {
   "display_name": "Python 3",
   "language": "python",
   "name": "python3"
  },
  "language_info": {
   "codemirror_mode": {
    "name": "ipython",
    "version": 3
   },
   "file_extension": ".py",
   "mimetype": "text/x-python",
   "name": "python",
   "nbconvert_exporter": "python",
   "pygments_lexer": "ipython3",
   "version": "3.7.1"
  },
  "toc": {
   "base_numbering": 1,
   "nav_menu": {},
   "number_sections": true,
   "sideBar": true,
   "skip_h1_title": false,
   "title_cell": "Table of Contents",
   "title_sidebar": "Contents",
   "toc_cell": false,
   "toc_position": {},
   "toc_section_display": true,
   "toc_window_display": false
  }
 },
 "nbformat": 4,
 "nbformat_minor": 2
}
