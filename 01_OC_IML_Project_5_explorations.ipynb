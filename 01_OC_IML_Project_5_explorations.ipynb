{
 "cells": [
  {
   "cell_type": "markdown",
   "metadata": {},
   "source": [
    "# OC IML Projet 5 : Catégorisez automatiquement des questions\n",
    "\n",
    "Stack Overflow est un site célèbre de questions-réponses liées au développement informatique\n",
    "développez *un système de suggestion de tag* pour le site. Celui-ci prendra la forme d’un algorithme de machine learning qui assigne automatiquement plusieurs tags pertinents à une question.\n",
    "\n",
    "\n",
    "Ce notebook contient : \n",
    "- Exploration des données\n",
    "\n"
   ]
  },
  {
   "cell_type": "markdown",
   "metadata": {},
   "source": [
    "## import"
   ]
  },
  {
   "cell_type": "code",
   "execution_count": 16,
   "metadata": {},
   "outputs": [
    {
     "name": "stderr",
     "output_type": "stream",
     "text": [
      "[nltk_data] Downloading package punkt to /Users/gregory/nltk_data...\n",
      "[nltk_data]   Package punkt is already up-to-date!\n"
     ]
    }
   ],
   "source": [
    "%matplotlib inline\n",
    "import matplotlib.pyplot as plt\n",
    "plt.style.use('seaborn-whitegrid')\n",
    "import seaborn as sns\n",
    "sns.set(color_codes=True, font_scale=1.33)\n",
    "\n",
    "import numpy as np\n",
    "import pandas as pd\n",
    "pd.set_option(\"display.max_columns\", 25)\n",
    "\n",
    "import re\n",
    "\n",
    "from sklearn import metrics\n",
    "\n",
    "import scipy.stats as st\n",
    "\n",
    "import nltk\n",
    "nltk.download('punkt')\n",
    "\n",
    "from collections import defaultdict"
   ]
  },
  {
   "cell_type": "markdown",
   "metadata": {},
   "source": [
    "## Definitions"
   ]
  },
  {
   "cell_type": "code",
   "execution_count": 5,
   "metadata": {},
   "outputs": [],
   "source": [
    "# source paths\n",
    "PATH_SOURCE_QUESTIONS = '../../data/QueryResults.csv' "
   ]
  },
  {
   "cell_type": "markdown",
   "metadata": {},
   "source": [
    "## Useful functions"
   ]
  },
  {
   "cell_type": "code",
   "execution_count": 8,
   "metadata": {},
   "outputs": [],
   "source": [
    "def display_missing(df):\n",
    "    '''\n",
    "    Display dataFrame missing values : barplots & numbers\n",
    "    ouput : dataFrame containing missing numbers\n",
    "    '''\n",
    "    nb_lignes = df.shape[0]\n",
    "    nb_missing = df.isnull().sum()\n",
    "    nb_missing = nb_missing.sort_values()\n",
    "    df_missing = nb_missing.to_frame()\n",
    "    df_missing.rename(index=str, columns={0: \"nb_missing\"}, inplace=True)\n",
    "    df_missing[\"ratio\"] = 100*df_missing[\"nb_missing\"] / nb_lignes\n",
    "    fig = plt.figure(figsize=(7, 7))\n",
    "    liste_name_bars = df_missing.index.values\n",
    "    liste_name_bars_num = []\n",
    "    for name in liste_name_bars:\n",
    "        liste_name_bars_num.append(\"{} [{}]\".format(\n",
    "            name, df_missing.loc[name, \"nb_missing\"]))\n",
    "    ax = sns.barplot(y=liste_name_bars_num, x='ratio', data=df_missing)\n",
    "    plt.title('Missing lines Ratio over {} lines'.format(nb_lignes))\n",
    "    ax.set(xlabel='repartition [%]')\n",
    "    ax.set_xlim([0, 100])\n",
    "    return df_missing"
   ]
  },
  {
   "cell_type": "markdown",
   "metadata": {},
   "source": [
    "## Loading"
   ]
  },
  {
   "cell_type": "code",
   "execution_count": 6,
   "metadata": {},
   "outputs": [],
   "source": [
    "# loading each sources\n",
    "df_quest = pd.read_csv(PATH_SOURCE_QUESTIONS, sep=',')"
   ]
  },
  {
   "cell_type": "markdown",
   "metadata": {},
   "source": [
    "### Questions"
   ]
  },
  {
   "cell_type": "code",
   "execution_count": 7,
   "metadata": {},
   "outputs": [
    {
     "data": {
      "text/html": [
       "<div>\n",
       "<style scoped>\n",
       "    .dataframe tbody tr th:only-of-type {\n",
       "        vertical-align: middle;\n",
       "    }\n",
       "\n",
       "    .dataframe tbody tr th {\n",
       "        vertical-align: top;\n",
       "    }\n",
       "\n",
       "    .dataframe thead th {\n",
       "        text-align: right;\n",
       "    }\n",
       "</style>\n",
       "<table border=\"1\" class=\"dataframe\">\n",
       "  <thead>\n",
       "    <tr style=\"text-align: right;\">\n",
       "      <th></th>\n",
       "      <th>Id</th>\n",
       "      <th>PostTypeId</th>\n",
       "      <th>AcceptedAnswerId</th>\n",
       "      <th>ParentId</th>\n",
       "      <th>CreationDate</th>\n",
       "      <th>DeletionDate</th>\n",
       "      <th>Score</th>\n",
       "      <th>ViewCount</th>\n",
       "      <th>Body</th>\n",
       "      <th>OwnerUserId</th>\n",
       "      <th>OwnerDisplayName</th>\n",
       "      <th>LastEditorUserId</th>\n",
       "      <th>LastEditorDisplayName</th>\n",
       "      <th>LastEditDate</th>\n",
       "      <th>LastActivityDate</th>\n",
       "      <th>Title</th>\n",
       "      <th>Tags</th>\n",
       "      <th>AnswerCount</th>\n",
       "      <th>CommentCount</th>\n",
       "      <th>FavoriteCount</th>\n",
       "      <th>ClosedDate</th>\n",
       "      <th>CommunityOwnedDate</th>\n",
       "    </tr>\n",
       "  </thead>\n",
       "  <tbody>\n",
       "    <tr>\n",
       "      <th>0</th>\n",
       "      <td>50000002</td>\n",
       "      <td>2</td>\n",
       "      <td>NaN</td>\n",
       "      <td>49999948.0</td>\n",
       "      <td>2018-04-24 11:00:00</td>\n",
       "      <td>NaN</td>\n",
       "      <td>2</td>\n",
       "      <td>NaN</td>\n",
       "      <td>&lt;p&gt;You need to have a  pointer to the &lt;code&gt;ma...</td>\n",
       "      <td>1983495.0</td>\n",
       "      <td>NaN</td>\n",
       "      <td>1983495.0</td>\n",
       "      <td>NaN</td>\n",
       "      <td>2018-04-24 12:14:36</td>\n",
       "      <td>2018-04-24 12:14:36</td>\n",
       "      <td>NaN</td>\n",
       "      <td>NaN</td>\n",
       "      <td>NaN</td>\n",
       "      <td>4</td>\n",
       "      <td>NaN</td>\n",
       "      <td>NaN</td>\n",
       "      <td>NaN</td>\n",
       "    </tr>\n",
       "    <tr>\n",
       "      <th>1</th>\n",
       "      <td>50000003</td>\n",
       "      <td>2</td>\n",
       "      <td>NaN</td>\n",
       "      <td>49995279.0</td>\n",
       "      <td>2018-04-24 11:00:00</td>\n",
       "      <td>NaN</td>\n",
       "      <td>1</td>\n",
       "      <td>NaN</td>\n",
       "      <td>&lt;p&gt;The old state is discarded. If you want to ...</td>\n",
       "      <td>506441.0</td>\n",
       "      <td>NaN</td>\n",
       "      <td>NaN</td>\n",
       "      <td>NaN</td>\n",
       "      <td>NaN</td>\n",
       "      <td>2018-04-24 11:00:00</td>\n",
       "      <td>NaN</td>\n",
       "      <td>NaN</td>\n",
       "      <td>NaN</td>\n",
       "      <td>3</td>\n",
       "      <td>NaN</td>\n",
       "      <td>NaN</td>\n",
       "      <td>NaN</td>\n",
       "    </tr>\n",
       "    <tr>\n",
       "      <th>2</th>\n",
       "      <td>50000004</td>\n",
       "      <td>2</td>\n",
       "      <td>NaN</td>\n",
       "      <td>49999911.0</td>\n",
       "      <td>2018-04-24 11:00:01</td>\n",
       "      <td>NaN</td>\n",
       "      <td>0</td>\n",
       "      <td>NaN</td>\n",
       "      <td>&lt;p&gt;If you are trying to achieve the above outp...</td>\n",
       "      <td>6155965.0</td>\n",
       "      <td>NaN</td>\n",
       "      <td>NaN</td>\n",
       "      <td>NaN</td>\n",
       "      <td>NaN</td>\n",
       "      <td>2018-04-24 11:00:01</td>\n",
       "      <td>NaN</td>\n",
       "      <td>NaN</td>\n",
       "      <td>NaN</td>\n",
       "      <td>6</td>\n",
       "      <td>NaN</td>\n",
       "      <td>NaN</td>\n",
       "      <td>NaN</td>\n",
       "    </tr>\n",
       "    <tr>\n",
       "      <th>3</th>\n",
       "      <td>50000005</td>\n",
       "      <td>1</td>\n",
       "      <td>50000164.0</td>\n",
       "      <td>NaN</td>\n",
       "      <td>2018-04-24 11:00:01</td>\n",
       "      <td>NaN</td>\n",
       "      <td>-4</td>\n",
       "      <td>63.0</td>\n",
       "      <td>&lt;p&gt;My table looks like this  on sql server&lt;/p&gt;...</td>\n",
       "      <td>8217447.0</td>\n",
       "      <td>NaN</td>\n",
       "      <td>3876565.0</td>\n",
       "      <td>NaN</td>\n",
       "      <td>2018-04-24 11:03:32</td>\n",
       "      <td>2018-04-24 13:15:50</td>\n",
       "      <td>How to insert an entry to a table only if it d...</td>\n",
       "      <td>&lt;c#&gt;&lt;sql&gt;&lt;sql-server&gt;</td>\n",
       "      <td>3.0</td>\n",
       "      <td>0</td>\n",
       "      <td>NaN</td>\n",
       "      <td>NaN</td>\n",
       "      <td>NaN</td>\n",
       "    </tr>\n",
       "    <tr>\n",
       "      <th>4</th>\n",
       "      <td>50000006</td>\n",
       "      <td>1</td>\n",
       "      <td>50117317.0</td>\n",
       "      <td>NaN</td>\n",
       "      <td>2018-04-24 11:00:01</td>\n",
       "      <td>NaN</td>\n",
       "      <td>0</td>\n",
       "      <td>199.0</td>\n",
       "      <td>&lt;p&gt;I have Ola Hallengren's excellent Maintenan...</td>\n",
       "      <td>9690333.0</td>\n",
       "      <td>NaN</td>\n",
       "      <td>NaN</td>\n",
       "      <td>NaN</td>\n",
       "      <td>NaN</td>\n",
       "      <td>2018-05-01 13:24:04</td>\n",
       "      <td>System DMV's missing from SQL Server 2017 mast...</td>\n",
       "      <td>&lt;sql-server&gt;&lt;sql-server-data-tools&gt;</td>\n",
       "      <td>1.0</td>\n",
       "      <td>2</td>\n",
       "      <td>NaN</td>\n",
       "      <td>NaN</td>\n",
       "      <td>NaN</td>\n",
       "    </tr>\n",
       "  </tbody>\n",
       "</table>\n",
       "</div>"
      ],
      "text/plain": [
       "         Id  PostTypeId  AcceptedAnswerId    ParentId         CreationDate  \\\n",
       "0  50000002           2               NaN  49999948.0  2018-04-24 11:00:00   \n",
       "1  50000003           2               NaN  49995279.0  2018-04-24 11:00:00   \n",
       "2  50000004           2               NaN  49999911.0  2018-04-24 11:00:01   \n",
       "3  50000005           1        50000164.0         NaN  2018-04-24 11:00:01   \n",
       "4  50000006           1        50117317.0         NaN  2018-04-24 11:00:01   \n",
       "\n",
       "   DeletionDate  Score  ViewCount  \\\n",
       "0           NaN      2        NaN   \n",
       "1           NaN      1        NaN   \n",
       "2           NaN      0        NaN   \n",
       "3           NaN     -4       63.0   \n",
       "4           NaN      0      199.0   \n",
       "\n",
       "                                                Body  OwnerUserId  \\\n",
       "0  <p>You need to have a  pointer to the <code>ma...    1983495.0   \n",
       "1  <p>The old state is discarded. If you want to ...     506441.0   \n",
       "2  <p>If you are trying to achieve the above outp...    6155965.0   \n",
       "3  <p>My table looks like this  on sql server</p>...    8217447.0   \n",
       "4  <p>I have Ola Hallengren's excellent Maintenan...    9690333.0   \n",
       "\n",
       "  OwnerDisplayName  LastEditorUserId LastEditorDisplayName  \\\n",
       "0              NaN         1983495.0                   NaN   \n",
       "1              NaN               NaN                   NaN   \n",
       "2              NaN               NaN                   NaN   \n",
       "3              NaN         3876565.0                   NaN   \n",
       "4              NaN               NaN                   NaN   \n",
       "\n",
       "          LastEditDate     LastActivityDate  \\\n",
       "0  2018-04-24 12:14:36  2018-04-24 12:14:36   \n",
       "1                  NaN  2018-04-24 11:00:00   \n",
       "2                  NaN  2018-04-24 11:00:01   \n",
       "3  2018-04-24 11:03:32  2018-04-24 13:15:50   \n",
       "4                  NaN  2018-05-01 13:24:04   \n",
       "\n",
       "                                               Title  \\\n",
       "0                                                NaN   \n",
       "1                                                NaN   \n",
       "2                                                NaN   \n",
       "3  How to insert an entry to a table only if it d...   \n",
       "4  System DMV's missing from SQL Server 2017 mast...   \n",
       "\n",
       "                                  Tags  AnswerCount  CommentCount  \\\n",
       "0                                  NaN          NaN             4   \n",
       "1                                  NaN          NaN             3   \n",
       "2                                  NaN          NaN             6   \n",
       "3                <c#><sql><sql-server>          3.0             0   \n",
       "4  <sql-server><sql-server-data-tools>          1.0             2   \n",
       "\n",
       "   FavoriteCount ClosedDate CommunityOwnedDate  \n",
       "0            NaN        NaN                NaN  \n",
       "1            NaN        NaN                NaN  \n",
       "2            NaN        NaN                NaN  \n",
       "3            NaN        NaN                NaN  \n",
       "4            NaN        NaN                NaN  "
      ]
     },
     "execution_count": 7,
     "metadata": {},
     "output_type": "execute_result"
    }
   ],
   "source": [
    "df_quest.head()"
   ]
  },
  {
   "cell_type": "code",
   "execution_count": 36,
   "metadata": {},
   "outputs": [
    {
     "data": {
      "text/plain": [
       "50000"
      ]
     },
     "execution_count": 36,
     "metadata": {},
     "output_type": "execute_result"
    }
   ],
   "source": [
    "df_quest[\"Id\"].nunique()"
   ]
  },
  {
   "cell_type": "code",
   "execution_count": 9,
   "metadata": {},
   "outputs": [
    {
     "data": {
      "text/html": [
       "<div>\n",
       "<style scoped>\n",
       "    .dataframe tbody tr th:only-of-type {\n",
       "        vertical-align: middle;\n",
       "    }\n",
       "\n",
       "    .dataframe tbody tr th {\n",
       "        vertical-align: top;\n",
       "    }\n",
       "\n",
       "    .dataframe thead th {\n",
       "        text-align: right;\n",
       "    }\n",
       "</style>\n",
       "<table border=\"1\" class=\"dataframe\">\n",
       "  <thead>\n",
       "    <tr style=\"text-align: right;\">\n",
       "      <th></th>\n",
       "      <th>nb_missing</th>\n",
       "      <th>ratio</th>\n",
       "    </tr>\n",
       "  </thead>\n",
       "  <tbody>\n",
       "    <tr>\n",
       "      <th>Id</th>\n",
       "      <td>0</td>\n",
       "      <td>0.000</td>\n",
       "    </tr>\n",
       "    <tr>\n",
       "      <th>PostTypeId</th>\n",
       "      <td>0</td>\n",
       "      <td>0.000</td>\n",
       "    </tr>\n",
       "    <tr>\n",
       "      <th>LastActivityDate</th>\n",
       "      <td>0</td>\n",
       "      <td>0.000</td>\n",
       "    </tr>\n",
       "    <tr>\n",
       "      <th>CommentCount</th>\n",
       "      <td>0</td>\n",
       "      <td>0.000</td>\n",
       "    </tr>\n",
       "    <tr>\n",
       "      <th>CreationDate</th>\n",
       "      <td>0</td>\n",
       "      <td>0.000</td>\n",
       "    </tr>\n",
       "    <tr>\n",
       "      <th>Score</th>\n",
       "      <td>0</td>\n",
       "      <td>0.000</td>\n",
       "    </tr>\n",
       "    <tr>\n",
       "      <th>Body</th>\n",
       "      <td>24</td>\n",
       "      <td>0.048</td>\n",
       "    </tr>\n",
       "    <tr>\n",
       "      <th>OwnerUserId</th>\n",
       "      <td>508</td>\n",
       "      <td>1.016</td>\n",
       "    </tr>\n",
       "    <tr>\n",
       "      <th>ParentId</th>\n",
       "      <td>21280</td>\n",
       "      <td>42.560</td>\n",
       "    </tr>\n",
       "    <tr>\n",
       "      <th>ViewCount</th>\n",
       "      <td>28792</td>\n",
       "      <td>57.584</td>\n",
       "    </tr>\n",
       "    <tr>\n",
       "      <th>Tags</th>\n",
       "      <td>28792</td>\n",
       "      <td>57.584</td>\n",
       "    </tr>\n",
       "    <tr>\n",
       "      <th>Title</th>\n",
       "      <td>28792</td>\n",
       "      <td>57.584</td>\n",
       "    </tr>\n",
       "    <tr>\n",
       "      <th>AnswerCount</th>\n",
       "      <td>28792</td>\n",
       "      <td>57.584</td>\n",
       "    </tr>\n",
       "    <tr>\n",
       "      <th>LastEditDate</th>\n",
       "      <td>29836</td>\n",
       "      <td>59.672</td>\n",
       "    </tr>\n",
       "    <tr>\n",
       "      <th>LastEditorUserId</th>\n",
       "      <td>30075</td>\n",
       "      <td>60.150</td>\n",
       "    </tr>\n",
       "    <tr>\n",
       "      <th>AcceptedAnswerId</th>\n",
       "      <td>40660</td>\n",
       "      <td>81.320</td>\n",
       "    </tr>\n",
       "    <tr>\n",
       "      <th>FavoriteCount</th>\n",
       "      <td>46675</td>\n",
       "      <td>93.350</td>\n",
       "    </tr>\n",
       "    <tr>\n",
       "      <th>ClosedDate</th>\n",
       "      <td>49076</td>\n",
       "      <td>98.152</td>\n",
       "    </tr>\n",
       "    <tr>\n",
       "      <th>OwnerDisplayName</th>\n",
       "      <td>49482</td>\n",
       "      <td>98.964</td>\n",
       "    </tr>\n",
       "    <tr>\n",
       "      <th>LastEditorDisplayName</th>\n",
       "      <td>49755</td>\n",
       "      <td>99.510</td>\n",
       "    </tr>\n",
       "    <tr>\n",
       "      <th>CommunityOwnedDate</th>\n",
       "      <td>49970</td>\n",
       "      <td>99.940</td>\n",
       "    </tr>\n",
       "    <tr>\n",
       "      <th>DeletionDate</th>\n",
       "      <td>50000</td>\n",
       "      <td>100.000</td>\n",
       "    </tr>\n",
       "  </tbody>\n",
       "</table>\n",
       "</div>"
      ],
      "text/plain": [
       "                       nb_missing    ratio\n",
       "Id                              0    0.000\n",
       "PostTypeId                      0    0.000\n",
       "LastActivityDate                0    0.000\n",
       "CommentCount                    0    0.000\n",
       "CreationDate                    0    0.000\n",
       "Score                           0    0.000\n",
       "Body                           24    0.048\n",
       "OwnerUserId                   508    1.016\n",
       "ParentId                    21280   42.560\n",
       "ViewCount                   28792   57.584\n",
       "Tags                        28792   57.584\n",
       "Title                       28792   57.584\n",
       "AnswerCount                 28792   57.584\n",
       "LastEditDate                29836   59.672\n",
       "LastEditorUserId            30075   60.150\n",
       "AcceptedAnswerId            40660   81.320\n",
       "FavoriteCount               46675   93.350\n",
       "ClosedDate                  49076   98.152\n",
       "OwnerDisplayName            49482   98.964\n",
       "LastEditorDisplayName       49755   99.510\n",
       "CommunityOwnedDate          49970   99.940\n",
       "DeletionDate                50000  100.000"
      ]
     },
     "execution_count": 9,
     "metadata": {},
     "output_type": "execute_result"
    },
    {
     "data": {
      "image/png": "[encoded data removed]",
      "text/plain": [
       "<Figure size 504x504 with 1 Axes>"
      ]
     },
     "metadata": {
      "needs_background": "light"
     },
     "output_type": "display_data"
    }
   ],
   "source": [
    "display_missing(df_quest)"
   ]
  },
  {
   "cell_type": "code",
   "execution_count": 13,
   "metadata": {},
   "outputs": [
    {
     "data": {
      "text/plain": [
       "['Bonjour',\n",
       " ',',\n",
       " 'je',\n",
       " 'suis',\n",
       " 'un',\n",
       " 'texte',\n",
       " \"d'exemple\",\n",
       " 'pour',\n",
       " 'le',\n",
       " 'cours',\n",
       " \"d'Openclassrooms\",\n",
       " '.',\n",
       " 'Soyez',\n",
       " 'attentifs',\n",
       " 'à',\n",
       " 'ce',\n",
       " 'cours',\n",
       " '!']"
      ]
     },
     "execution_count": 13,
     "metadata": {},
     "output_type": "execute_result"
    }
   ],
   "source": [
    "test = \"Bonjour, je suis un texte d'exemple pour le cours d'Openclassrooms. Soyez attentifs à ce cours !\"\n",
    "\n",
    "nltk.word_tokenize(test)"
   ]
  },
  {
   "cell_type": "code",
   "execution_count": 28,
   "metadata": {},
   "outputs": [
    {
     "data": {
      "text/plain": [
       "['Bonjour',\n",
       " 'je',\n",
       " 'suis',\n",
       " 'un',\n",
       " 'texte',\n",
       " 'd',\n",
       " 'exemple',\n",
       " 'pour',\n",
       " 'le',\n",
       " 'cours',\n",
       " 'd',\n",
       " 'Openclassrooms',\n",
       " 'Soyez',\n",
       " 'attentifs',\n",
       " 'à',\n",
       " 'ce',\n",
       " 'cours']"
      ]
     },
     "execution_count": 28,
     "metadata": {},
     "output_type": "execute_result"
    }
   ],
   "source": [
    "tokenizer = nltk.RegexpTokenizer(r'\\w+')\n",
    "tokens_test = tokenizer.tokenize(\"Bonjour, je suis un texte d'exemple pour le cours d'Openclassrooms. Soyez attentifs à ce cours !\")\n",
    "tokens_test"
   ]
  },
  {
   "cell_type": "code",
   "execution_count": 30,
   "metadata": {},
   "outputs": [
    {
     "data": {
      "text/plain": [
       "{'Bonjour',\n",
       " 'Openclassrooms',\n",
       " 'Soyez',\n",
       " 'attentifs',\n",
       " 'ce',\n",
       " 'cours',\n",
       " 'd',\n",
       " 'exemple',\n",
       " 'je',\n",
       " 'le',\n",
       " 'pour',\n",
       " 'suis',\n",
       " 'texte',\n",
       " 'un',\n",
       " 'à'}"
      ]
     },
     "execution_count": 30,
     "metadata": {},
     "output_type": "execute_result"
    }
   ],
   "source": [
    "set(tokens_test)"
   ]
  },
  {
   "cell_type": "code",
   "execution_count": 29,
   "metadata": {},
   "outputs": [
    {
     "data": {
      "text/plain": [
       "list"
      ]
     },
     "execution_count": 29,
     "metadata": {},
     "output_type": "execute_result"
    }
   ],
   "source": [
    "type(tokens_test)"
   ]
  },
  {
   "cell_type": "code",
   "execution_count": 32,
   "metadata": {},
   "outputs": [
    {
     "data": {
      "text/plain": [
       "'\\n# test du marche pas du au format\\n\\ndef my_tokenizer(text_str):\\n    \\n    if text_str == np.nan :\\n        return np.nan\\n    \\n    tokenizer = nltk.RegexpTokenizer(r\\'\\\\w+\\')\\n    return tokenizer.tokenize(text_str)\\n    \\ndf_quest[\"body_tokens\"] = df_quest[\"Body\"].apply(my_tokenizer)\\ndf_quest.head()\\n'"
      ]
     },
     "execution_count": 32,
     "metadata": {},
     "output_type": "execute_result"
    }
   ],
   "source": [
    "'''\n",
    "# test du marche pas du au format\n",
    "\n",
    "def my_tokenizer(text_str):\n",
    "    \n",
    "    if text_str == np.nan :\n",
    "        return np.nan\n",
    "    \n",
    "    tokenizer = nltk.RegexpTokenizer(r'\\w+')\n",
    "    return tokenizer.tokenize(text_str)\n",
    "    \n",
    "df_quest[\"body_tokens\"] = df_quest[\"Body\"].apply(my_tokenizer)\n",
    "df_quest.head()\n",
    "'''"
   ]
  },
  {
   "cell_type": "code",
   "execution_count": 56,
   "metadata": {},
   "outputs": [
    {
     "name": "stdout",
     "output_type": "stream",
     "text": [
      "50000 questions\n"
     ]
    }
   ],
   "source": [
    "\n",
    "#questions = defaultdict(set)\n",
    "\n",
    "questions = df_quest.filter(items=[\"Body\"]).to_dict()\n",
    "questions = questions[\"Body\"]\n",
    "print('{} questions'.format(len(questions)))"
   ]
  },
  {
   "cell_type": "code",
   "execution_count": 59,
   "metadata": {},
   "outputs": [
    {
     "data": {
      "text/plain": [
       "'<p>You need to have a  pointer to the <code>malloc()</code>ed area, you can <em>mimic</em> <code>malloc()</code>\\'s behavior like this</p>\\n\\n<pre><code>int *gener_random(int size) {\\n    int *values = malloc(size * sizeof(values));\\n    for(int i = 0; i &lt; size; i++)\\n        values[i] = rand(); \\n    return values;\\n}\\n</code></pre>\\n\\n<p>The reason your code doesn\\'t work is largely discussed on <a href=\"https://stackoverflow.com\">Stack Overflow</a>, your <code>int *value</code> parameter is local to <code>gener_random()</code> and making it point to the return value of <code>malloc()</code> does not change your <code>main()</code>\\'s <code>values</code>, it does only make the local pointer point to new memory and you lose the reference when the function returns.</p>\\n\\n<p>Two acceptable techniques exist,</p>\\n\\n<ol>\\n<li><p>Return the locally declared pointer after you check that it was succesfuly allocated.</p>\\n\\n<pre><code>int *gener_random(int size) {\\n    int *values = malloc(size * sizeof(values));\\n    if (values == NULL)\\n        return NULL;\\n    for(int i = 0; i &lt; size; i++)\\n        values[i] = rand(); \\n    return values;\\n}\\n</code></pre></li>\\n<li><p>Pass a pointer to the pointer itself and alter the variable in the function instead of the pointer value only.</p>\\n\\n<pre><code>void gener_random(int size, int **values) {\\n    // Dereference the pointer to the pointer, to work\\n    // on the variable declared in `main()\\' (the original pointer)\\n    *values = malloc(size * sizeof(values));\\n    if (*values == NULL) // Perhaps reutnr `int\\' and error code\\n        return;\\n    for(int i = 0; i &lt; size; i++)\\n        (*values)[i] = rand(); \\n}\\n</code></pre></li>\\n</ol>\\n'"
      ]
     },
     "execution_count": 59,
     "metadata": {},
     "output_type": "execute_result"
    }
   ],
   "source": [
    "questions[0]"
   ]
  },
  {
   "cell_type": "code",
   "execution_count": 77,
   "metadata": {
    "scrolled": false
   },
   "outputs": [
    {
     "name": "stdout",
     "output_type": "stream",
     "text": [
      "Qestion 654 : Error body empty\n",
      "Qestion 8466 : Error body empty\n",
      "Qestion 9964 : Error body empty\n",
      "Qestion 9965 : Error body empty\n",
      "Qestion 11670 : Error body empty\n",
      "Qestion 11671 : Error body empty\n",
      "Qestion 18756 : Error body empty\n",
      "Qestion 19659 : Error body empty\n",
      "Qestion 26623 : Error body empty\n",
      "Qestion 27991 : Error body empty\n",
      "Qestion 27992 : Error body empty\n",
      "Qestion 28372 : Error body empty\n",
      "Qestion 28373 : Error body empty\n",
      "Qestion 29300 : Error body empty\n",
      "Qestion 31667 : Error body empty\n",
      "Qestion 31668 : Error body empty\n",
      "Qestion 31763 : Error body empty\n",
      "Qestion 31764 : Error body empty\n",
      "Qestion 39923 : Error body empty\n",
      "Qestion 40623 : Error body empty\n",
      "Qestion 40641 : Error body empty\n",
      "Qestion 42311 : Error body empty\n",
      "Qestion 42312 : Error body empty\n",
      "Qestion 48402 : Error body empty\n"
     ]
    },
    {
     "data": {
      "text/plain": [
       "<matplotlib.axes._subplots.AxesSubplot at 0x1a8329d748>"
      ]
     },
     "execution_count": 77,
     "metadata": {},
     "output_type": "execute_result"
    },
    {
     "data": {
      "image/png": "[encoded data removed]",
      "text/plain": [
       "<Figure size 432x288 with 1 Axes>"
      ]
     },
     "metadata": {},
     "output_type": "display_data"
    }
   ],
   "source": [
    "tokenizer = nltk.RegexpTokenizer(r'\\w+')\n",
    "\n",
    "def freq_stats_corpora():\n",
    "    corpora = defaultdict(list)\n",
    "\n",
    "    # Création d'un corpus de tokens par artiste\n",
    "    for id_curr,questions_curr in questions.items():\n",
    "        #print(id_curr)\n",
    "        try:\n",
    "            corpora[id_curr] += tokenizer.tokenize(questions_curr.lower())\n",
    "        except:\n",
    "            print('Qestion {} : Error body empty'.format(id_curr))\n",
    "            \n",
    "\n",
    "    stats, freq = dict(), dict()\n",
    "\n",
    "    for k, v in corpora.items():\n",
    "        freq[k] = fq = nltk.FreqDist(v)\n",
    "        stats[k] = {'total': len(v)} \n",
    "        \n",
    "    return (freq, stats, corpora)\n",
    "\n",
    "# Récupération des comptages\n",
    "freq, stats, corpora = freq_stats_corpora()\n",
    "df = pd.DataFrame.from_dict(stats, orient='index')\n",
    "\n",
    "# Affichage des fréquences\n",
    "#df.sort(columns='total', ascending=False)\n",
    "df = df.sort_values(by=['total'], ascending=False)\n",
    "df.head(50).plot(kind='bar', color=\"#f56900\", title='Top 50 Rappeurs par nombre de mots')"
   ]
  },
  {
   "cell_type": "code",
   "execution_count": 85,
   "metadata": {},
   "outputs": [
    {
     "data": {
      "text/html": [
       "<div>\n",
       "<style scoped>\n",
       "    .dataframe tbody tr th:only-of-type {\n",
       "        vertical-align: middle;\n",
       "    }\n",
       "\n",
       "    .dataframe tbody tr th {\n",
       "        vertical-align: top;\n",
       "    }\n",
       "\n",
       "    .dataframe thead th {\n",
       "        text-align: right;\n",
       "    }\n",
       "</style>\n",
       "<table border=\"1\" class=\"dataframe\">\n",
       "  <thead>\n",
       "    <tr style=\"text-align: right;\">\n",
       "      <th></th>\n",
       "      <th>total</th>\n",
       "    </tr>\n",
       "  </thead>\n",
       "  <tbody>\n",
       "    <tr>\n",
       "      <th>8569</th>\n",
       "      <td>8318</td>\n",
       "    </tr>\n",
       "    <tr>\n",
       "      <th>31788</th>\n",
       "      <td>5572</td>\n",
       "    </tr>\n",
       "    <tr>\n",
       "      <th>26175</th>\n",
       "      <td>5103</td>\n",
       "    </tr>\n",
       "    <tr>\n",
       "      <th>328</th>\n",
       "      <td>4911</td>\n",
       "    </tr>\n",
       "    <tr>\n",
       "      <th>13840</th>\n",
       "      <td>4603</td>\n",
       "    </tr>\n",
       "    <tr>\n",
       "      <th>47201</th>\n",
       "      <td>4484</td>\n",
       "    </tr>\n",
       "    <tr>\n",
       "      <th>7738</th>\n",
       "      <td>4094</td>\n",
       "    </tr>\n",
       "    <tr>\n",
       "      <th>5560</th>\n",
       "      <td>4087</td>\n",
       "    </tr>\n",
       "    <tr>\n",
       "      <th>40370</th>\n",
       "      <td>4067</td>\n",
       "    </tr>\n",
       "    <tr>\n",
       "      <th>41620</th>\n",
       "      <td>3798</td>\n",
       "    </tr>\n",
       "    <tr>\n",
       "      <th>10964</th>\n",
       "      <td>3741</td>\n",
       "    </tr>\n",
       "    <tr>\n",
       "      <th>566</th>\n",
       "      <td>3698</td>\n",
       "    </tr>\n",
       "    <tr>\n",
       "      <th>39294</th>\n",
       "      <td>3634</td>\n",
       "    </tr>\n",
       "    <tr>\n",
       "      <th>9643</th>\n",
       "      <td>3524</td>\n",
       "    </tr>\n",
       "    <tr>\n",
       "      <th>18474</th>\n",
       "      <td>3512</td>\n",
       "    </tr>\n",
       "    <tr>\n",
       "      <th>37226</th>\n",
       "      <td>3499</td>\n",
       "    </tr>\n",
       "    <tr>\n",
       "      <th>28827</th>\n",
       "      <td>3460</td>\n",
       "    </tr>\n",
       "    <tr>\n",
       "      <th>5461</th>\n",
       "      <td>3449</td>\n",
       "    </tr>\n",
       "    <tr>\n",
       "      <th>15994</th>\n",
       "      <td>3443</td>\n",
       "    </tr>\n",
       "    <tr>\n",
       "      <th>11155</th>\n",
       "      <td>3389</td>\n",
       "    </tr>\n",
       "    <tr>\n",
       "      <th>18966</th>\n",
       "      <td>3381</td>\n",
       "    </tr>\n",
       "    <tr>\n",
       "      <th>16577</th>\n",
       "      <td>3377</td>\n",
       "    </tr>\n",
       "    <tr>\n",
       "      <th>44721</th>\n",
       "      <td>3340</td>\n",
       "    </tr>\n",
       "    <tr>\n",
       "      <th>7246</th>\n",
       "      <td>3277</td>\n",
       "    </tr>\n",
       "    <tr>\n",
       "      <th>20248</th>\n",
       "      <td>3233</td>\n",
       "    </tr>\n",
       "    <tr>\n",
       "      <th>15634</th>\n",
       "      <td>3227</td>\n",
       "    </tr>\n",
       "    <tr>\n",
       "      <th>30156</th>\n",
       "      <td>3207</td>\n",
       "    </tr>\n",
       "    <tr>\n",
       "      <th>18629</th>\n",
       "      <td>3202</td>\n",
       "    </tr>\n",
       "    <tr>\n",
       "      <th>25699</th>\n",
       "      <td>3201</td>\n",
       "    </tr>\n",
       "    <tr>\n",
       "      <th>8544</th>\n",
       "      <td>3174</td>\n",
       "    </tr>\n",
       "    <tr>\n",
       "      <th>...</th>\n",
       "      <td>...</td>\n",
       "    </tr>\n",
       "    <tr>\n",
       "      <th>43836</th>\n",
       "      <td>7</td>\n",
       "    </tr>\n",
       "    <tr>\n",
       "      <th>43817</th>\n",
       "      <td>7</td>\n",
       "    </tr>\n",
       "    <tr>\n",
       "      <th>11718</th>\n",
       "      <td>7</td>\n",
       "    </tr>\n",
       "    <tr>\n",
       "      <th>23168</th>\n",
       "      <td>6</td>\n",
       "    </tr>\n",
       "    <tr>\n",
       "      <th>176</th>\n",
       "      <td>6</td>\n",
       "    </tr>\n",
       "    <tr>\n",
       "      <th>35528</th>\n",
       "      <td>3</td>\n",
       "    </tr>\n",
       "    <tr>\n",
       "      <th>9965</th>\n",
       "      <td>0</td>\n",
       "    </tr>\n",
       "    <tr>\n",
       "      <th>27991</th>\n",
       "      <td>0</td>\n",
       "    </tr>\n",
       "    <tr>\n",
       "      <th>27992</th>\n",
       "      <td>0</td>\n",
       "    </tr>\n",
       "    <tr>\n",
       "      <th>31667</th>\n",
       "      <td>0</td>\n",
       "    </tr>\n",
       "    <tr>\n",
       "      <th>48402</th>\n",
       "      <td>0</td>\n",
       "    </tr>\n",
       "    <tr>\n",
       "      <th>31668</th>\n",
       "      <td>0</td>\n",
       "    </tr>\n",
       "    <tr>\n",
       "      <th>654</th>\n",
       "      <td>0</td>\n",
       "    </tr>\n",
       "    <tr>\n",
       "      <th>40623</th>\n",
       "      <td>0</td>\n",
       "    </tr>\n",
       "    <tr>\n",
       "      <th>28372</th>\n",
       "      <td>0</td>\n",
       "    </tr>\n",
       "    <tr>\n",
       "      <th>11670</th>\n",
       "      <td>0</td>\n",
       "    </tr>\n",
       "    <tr>\n",
       "      <th>29300</th>\n",
       "      <td>0</td>\n",
       "    </tr>\n",
       "    <tr>\n",
       "      <th>18756</th>\n",
       "      <td>0</td>\n",
       "    </tr>\n",
       "    <tr>\n",
       "      <th>9964</th>\n",
       "      <td>0</td>\n",
       "    </tr>\n",
       "    <tr>\n",
       "      <th>42312</th>\n",
       "      <td>0</td>\n",
       "    </tr>\n",
       "    <tr>\n",
       "      <th>42311</th>\n",
       "      <td>0</td>\n",
       "    </tr>\n",
       "    <tr>\n",
       "      <th>19659</th>\n",
       "      <td>0</td>\n",
       "    </tr>\n",
       "    <tr>\n",
       "      <th>11671</th>\n",
       "      <td>0</td>\n",
       "    </tr>\n",
       "    <tr>\n",
       "      <th>31763</th>\n",
       "      <td>0</td>\n",
       "    </tr>\n",
       "    <tr>\n",
       "      <th>31764</th>\n",
       "      <td>0</td>\n",
       "    </tr>\n",
       "    <tr>\n",
       "      <th>28373</th>\n",
       "      <td>0</td>\n",
       "    </tr>\n",
       "    <tr>\n",
       "      <th>39923</th>\n",
       "      <td>0</td>\n",
       "    </tr>\n",
       "    <tr>\n",
       "      <th>40641</th>\n",
       "      <td>0</td>\n",
       "    </tr>\n",
       "    <tr>\n",
       "      <th>26623</th>\n",
       "      <td>0</td>\n",
       "    </tr>\n",
       "    <tr>\n",
       "      <th>8466</th>\n",
       "      <td>0</td>\n",
       "    </tr>\n",
       "  </tbody>\n",
       "</table>\n",
       "<p>50000 rows × 1 columns</p>\n",
       "</div>"
      ],
      "text/plain": [
       "       total\n",
       "8569    8318\n",
       "31788   5572\n",
       "26175   5103\n",
       "328     4911\n",
       "13840   4603\n",
       "47201   4484\n",
       "7738    4094\n",
       "5560    4087\n",
       "40370   4067\n",
       "41620   3798\n",
       "10964   3741\n",
       "566     3698\n",
       "39294   3634\n",
       "9643    3524\n",
       "18474   3512\n",
       "37226   3499\n",
       "28827   3460\n",
       "5461    3449\n",
       "15994   3443\n",
       "11155   3389\n",
       "18966   3381\n",
       "16577   3377\n",
       "44721   3340\n",
       "7246    3277\n",
       "20248   3233\n",
       "15634   3227\n",
       "30156   3207\n",
       "18629   3202\n",
       "25699   3201\n",
       "8544    3174\n",
       "...      ...\n",
       "43836      7\n",
       "43817      7\n",
       "11718      7\n",
       "23168      6\n",
       "176        6\n",
       "35528      3\n",
       "9965       0\n",
       "27991      0\n",
       "27992      0\n",
       "31667      0\n",
       "48402      0\n",
       "31668      0\n",
       "654        0\n",
       "40623      0\n",
       "28372      0\n",
       "11670      0\n",
       "29300      0\n",
       "18756      0\n",
       "9964       0\n",
       "42312      0\n",
       "42311      0\n",
       "19659      0\n",
       "11671      0\n",
       "31763      0\n",
       "31764      0\n",
       "28373      0\n",
       "39923      0\n",
       "40641      0\n",
       "26623      0\n",
       "8466       0\n",
       "\n",
       "[50000 rows x 1 columns]"
      ]
     },
     "execution_count": 85,
     "metadata": {},
     "output_type": "execute_result"
    }
   ],
   "source": [
    "df"
   ]
  },
  {
   "cell_type": "code",
   "execution_count": 84,
   "metadata": {},
   "outputs": [
    {
     "data": {
      "text/plain": [
       "32096"
      ]
     },
     "execution_count": 84,
     "metadata": {},
     "output_type": "execute_result"
    }
   ],
   "source": [
    "len(df_quest.loc[8569].Body)"
   ]
  },
  {
   "cell_type": "code",
   "execution_count": 86,
   "metadata": {},
   "outputs": [
    {
     "data": {
      "text/plain": [
       "48"
      ]
     },
     "execution_count": 86,
     "metadata": {},
     "output_type": "execute_result"
    }
   ],
   "source": [
    "len(df_quest.loc[43836].Body) "
   ]
  },
  {
   "cell_type": "code",
   "execution_count": 87,
   "metadata": {},
   "outputs": [
    {
     "data": {
      "text/plain": [
       "'<p>self.scrollToRow(at: indexPath.last ...)</p>\\n'"
      ]
     },
     "execution_count": 87,
     "metadata": {},
     "output_type": "execute_result"
    }
   ],
   "source": [
    "df_quest.loc[43836].Body"
   ]
  },
  {
   "cell_type": "code",
   "execution_count": 88,
   "metadata": {},
   "outputs": [
    {
     "data": {
      "text/plain": [
       "['p', 'self', 'scrollToRow', 'at', 'indexPath', 'last', 'p']"
      ]
     },
     "execution_count": 88,
     "metadata": {},
     "output_type": "execute_result"
    }
   ],
   "source": [
    "tokenizer.tokenize(df_quest.loc[43836].Body)"
   ]
  },
  {
   "cell_type": "code",
   "execution_count": 67,
   "metadata": {},
   "outputs": [
    {
     "data": {
      "text/plain": [
       "'tEst test'"
      ]
     },
     "execution_count": 67,
     "metadata": {},
     "output_type": "execute_result"
    }
   ],
   "source": [
    "'tEst test'.encode('utf-8').decode('utf-8')"
   ]
  },
  {
   "cell_type": "code",
   "execution_count": null,
   "metadata": {},
   "outputs": [],
   "source": []
  }
 ],
 "metadata": {
  "kernelspec": {
   "display_name": "Python 3",
   "language": "python",
   "name": "python3"
  },
  "language_info": {
   "codemirror_mode": {
    "name": "ipython",
    "version": 3
   },
   "file_extension": ".py",
   "mimetype": "text/x-python",
   "name": "python",
   "nbconvert_exporter": "python",
   "pygments_lexer": "ipython3",
   "version": "3.7.1"
  },
  "toc": {
   "base_numbering": 1,
   "nav_menu": {},
   "number_sections": true,
   "sideBar": true,
   "skip_h1_title": false,
   "title_cell": "Table of Contents",
   "title_sidebar": "Contents",
   "toc_cell": false,
   "toc_position": {},
   "toc_section_display": true,
   "toc_window_display": false
  }
 },
 "nbformat": 4,
 "nbformat_minor": 2
}
